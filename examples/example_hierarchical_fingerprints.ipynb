{
 "cells": [
  {
   "cell_type": "code",
   "execution_count": 1,
   "metadata": {},
   "outputs": [
    {
     "name": "stderr",
     "output_type": "stream",
     "text": [
      "2023-03-31 10:28:25.239913: I tensorflow/core/platform/cpu_feature_guard.cc:193] This TensorFlow binary is optimized with oneAPI Deep Neural Network Library (oneDNN) to use the following CPU instructions in performance-critical operations:  AVX2 AVX_VNNI FMA\n",
      "To enable them in other operations, rebuild TensorFlow with the appropriate compiler flags.\n",
      "2023-03-31 10:28:25.635628: W tensorflow/compiler/xla/stream_executor/platform/default/dso_loader.cc:64] Could not load dynamic library 'libnvinfer.so.7'; dlerror: libnvinfer.so.7: cannot open shared object file: No such file or directory; LD_LIBRARY_PATH: /usr/local/cuda-11.2/lib64::/home/wilsoa6/miniconda3/envs/stonks/lib/\n",
      "2023-03-31 10:28:25.635698: W tensorflow/compiler/xla/stream_executor/platform/default/dso_loader.cc:64] Could not load dynamic library 'libnvinfer_plugin.so.7'; dlerror: libnvinfer_plugin.so.7: cannot open shared object file: No such file or directory; LD_LIBRARY_PATH: /usr/local/cuda-11.2/lib64::/home/wilsoa6/miniconda3/envs/stonks/lib/\n",
      "2023-03-31 10:28:25.635701: W tensorflow/compiler/tf2tensorrt/utils/py_utils.cc:38] TF-TRT Warning: Cannot dlopen some TensorRT libraries. If you would like to use Nvidia GPU with TensorRT, please make sure the missing libraries mentioned above are installed properly.\n"
     ]
    }
   ],
   "source": [
    "import pandas as pd\n",
    "from m2p import PolyMaker\n",
    "from polyid import generate_hash\n",
    "from fingerprints import HierarchticalFingerprints\n",
    "\n",
    "pm = PolyMaker()\n",
    "hfp = HierarchticalFingerprints()"
   ]
  },
  {
   "attachments": {},
   "cell_type": "markdown",
   "metadata": {},
   "source": [
    "# Generate Structures"
   ]
  },
  {
   "cell_type": "code",
   "execution_count": 2,
   "metadata": {},
   "outputs": [
    {
     "name": "stderr",
     "output_type": "stream",
     "text": [
      "100%|██████████| 5/5 [00:00<00:00, 21.07it/s]\n"
     ]
    },
    {
     "data": {
      "text/html": [
       "<div>\n",
       "<style scoped>\n",
       "    .dataframe tbody tr th:only-of-type {\n",
       "        vertical-align: middle;\n",
       "    }\n",
       "\n",
       "    .dataframe tbody tr th {\n",
       "        vertical-align: top;\n",
       "    }\n",
       "\n",
       "    .dataframe thead th {\n",
       "        text-align: right;\n",
       "    }\n",
       "</style>\n",
       "<table border=\"1\" class=\"dataframe\">\n",
       "  <thead>\n",
       "    <tr style=\"text-align: right;\">\n",
       "      <th></th>\n",
       "      <th>smiles_monomer</th>\n",
       "      <th>monomers</th>\n",
       "      <th>distribution</th>\n",
       "      <th>replicate_structure</th>\n",
       "      <th>smiles_polymer</th>\n",
       "      <th>mechanism</th>\n",
       "    </tr>\n",
       "    <tr>\n",
       "      <th>hash-smiles_polymer</th>\n",
       "      <th></th>\n",
       "      <th></th>\n",
       "      <th></th>\n",
       "      <th></th>\n",
       "      <th></th>\n",
       "      <th></th>\n",
       "    </tr>\n",
       "  </thead>\n",
       "  <tbody>\n",
       "    <tr>\n",
       "      <th>BUxfkDaZTxwJcqGvnELoHV</th>\n",
       "      <td>CC(c1ccc(Oc2ccc(-c3ccc(N)cc3)cc2C(F)(F)F)cc1)(...</td>\n",
       "      <td>('O=C(O)c1ccc2cc(C(=O)O)ccc2c1', 'CC(c1ccc(Oc2...</td>\n",
       "      <td>[]</td>\n",
       "      <td>0</td>\n",
       "      <td>CC(c1ccc(Oc2ccc(-c3ccc(N)cc3)cc2C(F)(F)F)cc1)(...</td>\n",
       "      <td>amide</td>\n",
       "    </tr>\n",
       "    <tr>\n",
       "      <th>FPZYPQu4WX5tfkJ6cPKwrT</th>\n",
       "      <td>O=C(O)CCc1ccc(OCCO)cc1</td>\n",
       "      <td>('O=C(O)CCc1ccc(OCCO)cc1',)</td>\n",
       "      <td>[]</td>\n",
       "      <td>0</td>\n",
       "      <td>O=C(O)CCc1ccc(OCCOC(=O)CCc2ccc(OCCOC(=O)CCc3cc...</td>\n",
       "      <td>ester</td>\n",
       "    </tr>\n",
       "    <tr>\n",
       "      <th>e4ZohFy2q8Qe6BvddXXQQY</th>\n",
       "      <td>O=C(O)CCSCCC(=O)O.OCCO</td>\n",
       "      <td>('OCCO', 'O=C(O)CCSCCC(=O)O')</td>\n",
       "      <td>[]</td>\n",
       "      <td>0</td>\n",
       "      <td>O=C(O)CCSCCC(=O)OCCOC(=O)CCSCCC(=O)OCCOC(=O)CC...</td>\n",
       "      <td>ester</td>\n",
       "    </tr>\n",
       "    <tr>\n",
       "      <th>X2gPoBQuxtksHLpMgmDupy</th>\n",
       "      <td>NCCCCCCC(=O)O</td>\n",
       "      <td>('NCCCCCCC(=O)O',)</td>\n",
       "      <td>[]</td>\n",
       "      <td>0</td>\n",
       "      <td>NCCCCCCC(=O)NCCCCCCC(=O)NCCCCCCC(=O)NCCCCCCC(=...</td>\n",
       "      <td>amide</td>\n",
       "    </tr>\n",
       "    <tr>\n",
       "      <th>bUyGqqVUoVk67CNvjxrMQw</th>\n",
       "      <td>CC(C)(C)c1cc(C(=O)O)cc(C(=O)O)c1.CC(C)(c1ccc(O...</td>\n",
       "      <td>('CC(C)(C)c1cc(C(=O)O)cc(C(=O)O)c1', 'CC(C)(c1...</td>\n",
       "      <td>[]</td>\n",
       "      <td>0</td>\n",
       "      <td>CC(C)(C)c1cc(C(=O)O)cc(C(=O)Nc2ccc(-c3ccc(Oc4c...</td>\n",
       "      <td>amide</td>\n",
       "    </tr>\n",
       "  </tbody>\n",
       "</table>\n",
       "</div>"
      ],
      "text/plain": [
       "                                                           smiles_monomer  \\\n",
       "hash-smiles_polymer                                                         \n",
       "BUxfkDaZTxwJcqGvnELoHV  CC(c1ccc(Oc2ccc(-c3ccc(N)cc3)cc2C(F)(F)F)cc1)(...   \n",
       "FPZYPQu4WX5tfkJ6cPKwrT                             O=C(O)CCc1ccc(OCCO)cc1   \n",
       "e4ZohFy2q8Qe6BvddXXQQY                             O=C(O)CCSCCC(=O)O.OCCO   \n",
       "X2gPoBQuxtksHLpMgmDupy                                      NCCCCCCC(=O)O   \n",
       "bUyGqqVUoVk67CNvjxrMQw  CC(C)(C)c1cc(C(=O)O)cc(C(=O)O)c1.CC(C)(c1ccc(O...   \n",
       "\n",
       "                                                                 monomers  \\\n",
       "hash-smiles_polymer                                                         \n",
       "BUxfkDaZTxwJcqGvnELoHV  ('O=C(O)c1ccc2cc(C(=O)O)ccc2c1', 'CC(c1ccc(Oc2...   \n",
       "FPZYPQu4WX5tfkJ6cPKwrT                        ('O=C(O)CCc1ccc(OCCO)cc1',)   \n",
       "e4ZohFy2q8Qe6BvddXXQQY                      ('OCCO', 'O=C(O)CCSCCC(=O)O')   \n",
       "X2gPoBQuxtksHLpMgmDupy                                 ('NCCCCCCC(=O)O',)   \n",
       "bUyGqqVUoVk67CNvjxrMQw  ('CC(C)(C)c1cc(C(=O)O)cc(C(=O)O)c1', 'CC(C)(c1...   \n",
       "\n",
       "                       distribution  replicate_structure  \\\n",
       "hash-smiles_polymer                                        \n",
       "BUxfkDaZTxwJcqGvnELoHV           []                    0   \n",
       "FPZYPQu4WX5tfkJ6cPKwrT           []                    0   \n",
       "e4ZohFy2q8Qe6BvddXXQQY           []                    0   \n",
       "X2gPoBQuxtksHLpMgmDupy           []                    0   \n",
       "bUyGqqVUoVk67CNvjxrMQw           []                    0   \n",
       "\n",
       "                                                           smiles_polymer  \\\n",
       "hash-smiles_polymer                                                         \n",
       "BUxfkDaZTxwJcqGvnELoHV  CC(c1ccc(Oc2ccc(-c3ccc(N)cc3)cc2C(F)(F)F)cc1)(...   \n",
       "FPZYPQu4WX5tfkJ6cPKwrT  O=C(O)CCc1ccc(OCCOC(=O)CCc2ccc(OCCOC(=O)CCc3cc...   \n",
       "e4ZohFy2q8Qe6BvddXXQQY  O=C(O)CCSCCC(=O)OCCOC(=O)CCSCCC(=O)OCCOC(=O)CC...   \n",
       "X2gPoBQuxtksHLpMgmDupy  NCCCCCCC(=O)NCCCCCCC(=O)NCCCCCCC(=O)NCCCCCCC(=...   \n",
       "bUyGqqVUoVk67CNvjxrMQw  CC(C)(C)c1cc(C(=O)O)cc(C(=O)Nc2ccc(-c3ccc(Oc4c...   \n",
       "\n",
       "                       mechanism  \n",
       "hash-smiles_polymer               \n",
       "BUxfkDaZTxwJcqGvnELoHV     amide  \n",
       "FPZYPQu4WX5tfkJ6cPKwrT     ester  \n",
       "e4ZohFy2q8Qe6BvddXXQQY     ester  \n",
       "X2gPoBQuxtksHLpMgmDupy     amide  \n",
       "bUyGqqVUoVk67CNvjxrMQw     amide  "
      ]
     },
     "execution_count": 2,
     "metadata": {},
     "output_type": "execute_result"
    }
   ],
   "source": [
    "# import data\n",
    "data = pd.read_csv('../data/example_monomer_smiles.csv',index_col=0)\n",
    "\n",
    "# generate monomers tuple\n",
    "data['monomers'] = data.smiles_monomer.apply(pm.get_monomers)\n",
    "\n",
    "# # generate polymer structures with DP=8 and 2 replicate stuctures\n",
    "data = pm.thermoplastic(data.sample(5),DP=8,mechanism='all',replicate_structures=1)\n",
    "\n",
    "# remove any polymers which may have resulted in an error during reaction\n",
    "dferror = data[data.smiles_polymer.str.contains('ERR')]\n",
    "data = data[~data.smiles_polymer.str.contains('ERR')]\n",
    "\n",
    "# hash columns for tracking predictions and structures\n",
    "data = generate_hash(data,hash_cols=['smiles_polymer'])\n",
    "\n",
    "\n",
    "data"
   ]
  },
  {
   "attachments": {},
   "cell_type": "markdown",
   "metadata": {},
   "source": [
    "# Generate Atomic and Molecular/Morphological Fingerprints"
   ]
  },
  {
   "cell_type": "code",
   "execution_count": 3,
   "metadata": {},
   "outputs": [
    {
     "name": "stderr",
     "output_type": "stream",
     "text": [
      "100%|██████████| 5/5 [00:00<00:00, 411.46it/s]\n",
      "100%|██████████| 5/5 [00:10<00:00,  2.08s/it]"
     ]
    },
    {
     "name": "stdout",
     "output_type": "stream",
     "text": [
      "Atomic Fingerprints\n",
      "                        3624155    98513984   112486133  161963127\n",
      "hash-smiles_polymer                                               \n",
      "BUxfkDaZTxwJcqGvnELoHV        0.0       16.0        0.0        0.0\n",
      "FPZYPQu4WX5tfkJ6cPKwrT        8.0        0.0        0.0        0.0\n",
      "e4ZohFy2q8Qe6BvddXXQQY        0.0        0.0        0.0        0.0\n",
      "X2gPoBQuxtksHLpMgmDupy        0.0        0.0        0.0       16.0 ...\n",
      "\n",
      "\n",
      "Molecular and Morpholotical (mordred) Fingerprints\n",
      "                               ABC       ABCGG  nAcid  nBase\n",
      "hash-smiles_polymer                                         \n",
      "BUxfkDaZTxwJcqGvnELoHV  257.509002  116.737389      1      0\n",
      "FPZYPQu4WX5tfkJ6cPKwrT   85.837322   37.844896      1      0\n",
      "e4ZohFy2q8Qe6BvddXXQQY   37.754061   24.513299      1      0\n",
      "X2gPoBQuxtksHLpMgmDupy   51.896196   28.893397      1      1 ...\n",
      "\n",
      "\n",
      "Atomic, Molecular/Morpholotical (mordred) Fingerprints\n",
      "                        3624155  98513984  SRW09      SRW10\n",
      "hash-smiles_polymer                                        \n",
      "BUxfkDaZTxwJcqGvnELoHV      0.0      16.0    0.0  12.975952\n",
      "FPZYPQu4WX5tfkJ6cPKwrT      8.0       0.0    0.0  11.160684\n",
      "e4ZohFy2q8Qe6BvddXXQQY      0.0       0.0    0.0   9.869672\n",
      "X2gPoBQuxtksHLpMgmDupy      0.0       0.0    0.0  10.101313\n",
      "bUyGqqVUoVk67CNvjxrMQw      0.0       0.0    0.0  12.643802 ...\n",
      "\n",
      "\n"
     ]
    },
    {
     "name": "stderr",
     "output_type": "stream",
     "text": [
      "\n"
     ]
    }
   ],
   "source": [
    "hfp.gen_fp_atomic_molecular_morphological(data)\n",
    "\n",
    "print('Atomic Fingerprints\\n{}{}\\n\\n'.format(hfp.df_atomic.iloc[0:4,0:4],' ...'))\n",
    "print('Molecular and Morpholotical (mordred) Fingerprints\\n{}{}\\n\\n'.format(hfp.df_molecular_morphological.iloc[0:4,0:4],' ...'))\n",
    "print('Atomic, Molecular/Morpholotical (mordred) Fingerprints\\n{}{}\\n\\n'.format(hfp.df_atomic_molecular_morphological.iloc[0:5,[0,1,-11,-10]],' ...'))"
   ]
  }
 ],
 "metadata": {
  "kernelspec": {
   "display_name": "polyID",
   "language": "python",
   "name": "python3"
  },
  "language_info": {
   "codemirror_mode": {
    "name": "ipython",
    "version": 3
   },
   "file_extension": ".py",
   "mimetype": "text/x-python",
   "name": "python",
   "nbconvert_exporter": "python",
   "pygments_lexer": "ipython3",
   "version": "3.7.12"
  },
  "orig_nbformat": 4
 },
 "nbformat": 4,
 "nbformat_minor": 2
}
