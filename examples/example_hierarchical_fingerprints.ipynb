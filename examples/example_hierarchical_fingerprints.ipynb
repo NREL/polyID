{
 "cells": [
  {
   "cell_type": "code",
   "execution_count": 17,
   "metadata": {},
   "outputs": [
    {
     "name": "stdout",
     "output_type": "stream",
     "text": [
      "The autoreload extension is already loaded. To reload it, use:\n",
      "  %reload_ext autoreload\n"
     ]
    }
   ],
   "source": [
    "import pandas as pd\n",
    "from m2p import PolyMaker\n",
    "from polyid import generate_hash\n",
    "from fingerprints import HierarchticalFingerprints\n",
    "\n",
    "pm = PolyMaker()\n",
    "hfp = HierarchticalFingerprints()\n",
    "\n",
    "%load_ext autoreload\n",
    "%autoreload 2"
   ]
  },
  {
   "attachments": {},
   "cell_type": "markdown",
   "metadata": {},
   "source": [
    "# Generate Structures"
   ]
  },
  {
   "cell_type": "code",
   "execution_count": 18,
   "metadata": {},
   "outputs": [
    {
     "name": "stderr",
     "output_type": "stream",
     "text": [
      "100%|██████████| 5/5 [00:00<00:00, 17.54it/s]\n"
     ]
    },
    {
     "data": {
      "text/html": [
       "<div>\n",
       "<style scoped>\n",
       "    .dataframe tbody tr th:only-of-type {\n",
       "        vertical-align: middle;\n",
       "    }\n",
       "\n",
       "    .dataframe tbody tr th {\n",
       "        vertical-align: top;\n",
       "    }\n",
       "\n",
       "    .dataframe thead th {\n",
       "        text-align: right;\n",
       "    }\n",
       "</style>\n",
       "<table border=\"1\" class=\"dataframe\">\n",
       "  <thead>\n",
       "    <tr style=\"text-align: right;\">\n",
       "      <th></th>\n",
       "      <th>hash-monomers-replicate_structure</th>\n",
       "      <th>smiles_monomer</th>\n",
       "      <th>monomers</th>\n",
       "      <th>distribution</th>\n",
       "      <th>replicate_structure</th>\n",
       "      <th>smiles_polymer</th>\n",
       "      <th>mechanism</th>\n",
       "    </tr>\n",
       "    <tr>\n",
       "      <th>hash-monomers</th>\n",
       "      <th></th>\n",
       "      <th></th>\n",
       "      <th></th>\n",
       "      <th></th>\n",
       "      <th></th>\n",
       "      <th></th>\n",
       "      <th></th>\n",
       "    </tr>\n",
       "  </thead>\n",
       "  <tbody>\n",
       "    <tr>\n",
       "      <th>bebVfgVkBo4KvxVebKyauG</th>\n",
       "      <td>ckV2NPPhTgFTBG5agtf7aK</td>\n",
       "      <td>Nc1ccc(Oc2ccc(C3(c4ccc(Oc5ccc(N)cc5)cc4)C4CC5C...</td>\n",
       "      <td>('O=C(O)c1ccc(C(=O)O)c2ccccc12', 'Nc1ccc(Oc2cc...</td>\n",
       "      <td>[]</td>\n",
       "      <td>0</td>\n",
       "      <td>Nc1ccc(Oc2ccc(C3(c4ccc(Oc5ccc(NC(=O)c6ccc(C(=O...</td>\n",
       "      <td>amide</td>\n",
       "    </tr>\n",
       "    <tr>\n",
       "      <th>9g9GvuxVE4Wr4ZuQSSZ3KX</th>\n",
       "      <td>iM54oFtcdWoJ9EmaChtu9M</td>\n",
       "      <td>Nc1cccc(Oc2ccc(C(=O)c3ccc(Oc4cccc(N)c4)cc3)cc2...</td>\n",
       "      <td>('O=C(O)c1ccc(C(=O)O)nc1', 'Nc1cccc(Oc2ccc(C(=...</td>\n",
       "      <td>[]</td>\n",
       "      <td>0</td>\n",
       "      <td>Nc1cccc(Oc2ccc(C(=O)c3ccc(Oc4cccc(NC(=O)c5ccc(...</td>\n",
       "      <td>amide</td>\n",
       "    </tr>\n",
       "    <tr>\n",
       "      <th>PBK6iwfvGwCAooynT7aE6Y</th>\n",
       "      <td>DbuyNwX7cjj7s2aBBEzzEG</td>\n",
       "      <td>O=C(O)C/C=C/CC(=O)O.OCCCCCCCCCCCCO</td>\n",
       "      <td>('O=C(O)C/C=C/CC(=O)O', 'OCCCCCCCCCCCCO')</td>\n",
       "      <td>[]</td>\n",
       "      <td>0</td>\n",
       "      <td>O=C(O)C/C=C/CC(=O)OCCCCCCCCCCCCOC(=O)C/C=C/CC(...</td>\n",
       "      <td>ester</td>\n",
       "    </tr>\n",
       "    <tr>\n",
       "      <th>M9f7jYAB5vq2n6dbxshLyU</th>\n",
       "      <td>Yk7xphgTexhKcJgwPtnRSr</td>\n",
       "      <td>Nc1cccc(Oc2ccc(C(=O)c3ccc(Oc4cccc(N)c4)cc3)cc2...</td>\n",
       "      <td>('O=C(O)c1cccc(C(=O)O)c1', 'Nc1cccc(Oc2ccc(C(=...</td>\n",
       "      <td>[]</td>\n",
       "      <td>0</td>\n",
       "      <td>Nc1cccc(Oc2ccc(C(=O)c3ccc(Oc4cccc(NC(=O)c5cccc...</td>\n",
       "      <td>amide</td>\n",
       "    </tr>\n",
       "    <tr>\n",
       "      <th>ESHrPd7LPhc6HZanmzHLFH</th>\n",
       "      <td>RYnTL5ftRD7sgU7xNXVhq8</td>\n",
       "      <td>CC(C)(c1ccc(Oc2ccc(N)cc2)cc1)c1ccc(Oc2ccc(N)cc...</td>\n",
       "      <td>('CC(C)(c1ccc(Oc2ccc(N)cc2)cc1)c1ccc(Oc2ccc(N)...</td>\n",
       "      <td>[]</td>\n",
       "      <td>0</td>\n",
       "      <td>CC(C)(c1ccc(Oc2ccc(N)cc2)cc1)c1ccc(Oc2ccc(NC(=...</td>\n",
       "      <td>amide</td>\n",
       "    </tr>\n",
       "  </tbody>\n",
       "</table>\n",
       "</div>"
      ],
      "text/plain": [
       "                       hash-monomers-replicate_structure  \\\n",
       "hash-monomers                                              \n",
       "bebVfgVkBo4KvxVebKyauG            ckV2NPPhTgFTBG5agtf7aK   \n",
       "9g9GvuxVE4Wr4ZuQSSZ3KX            iM54oFtcdWoJ9EmaChtu9M   \n",
       "PBK6iwfvGwCAooynT7aE6Y            DbuyNwX7cjj7s2aBBEzzEG   \n",
       "M9f7jYAB5vq2n6dbxshLyU            Yk7xphgTexhKcJgwPtnRSr   \n",
       "ESHrPd7LPhc6HZanmzHLFH            RYnTL5ftRD7sgU7xNXVhq8   \n",
       "\n",
       "                                                           smiles_monomer  \\\n",
       "hash-monomers                                                               \n",
       "bebVfgVkBo4KvxVebKyauG  Nc1ccc(Oc2ccc(C3(c4ccc(Oc5ccc(N)cc5)cc4)C4CC5C...   \n",
       "9g9GvuxVE4Wr4ZuQSSZ3KX  Nc1cccc(Oc2ccc(C(=O)c3ccc(Oc4cccc(N)c4)cc3)cc2...   \n",
       "PBK6iwfvGwCAooynT7aE6Y                 O=C(O)C/C=C/CC(=O)O.OCCCCCCCCCCCCO   \n",
       "M9f7jYAB5vq2n6dbxshLyU  Nc1cccc(Oc2ccc(C(=O)c3ccc(Oc4cccc(N)c4)cc3)cc2...   \n",
       "ESHrPd7LPhc6HZanmzHLFH  CC(C)(c1ccc(Oc2ccc(N)cc2)cc1)c1ccc(Oc2ccc(N)cc...   \n",
       "\n",
       "                                                                 monomers  \\\n",
       "hash-monomers                                                               \n",
       "bebVfgVkBo4KvxVebKyauG  ('O=C(O)c1ccc(C(=O)O)c2ccccc12', 'Nc1ccc(Oc2cc...   \n",
       "9g9GvuxVE4Wr4ZuQSSZ3KX  ('O=C(O)c1ccc(C(=O)O)nc1', 'Nc1cccc(Oc2ccc(C(=...   \n",
       "PBK6iwfvGwCAooynT7aE6Y          ('O=C(O)C/C=C/CC(=O)O', 'OCCCCCCCCCCCCO')   \n",
       "M9f7jYAB5vq2n6dbxshLyU  ('O=C(O)c1cccc(C(=O)O)c1', 'Nc1cccc(Oc2ccc(C(=...   \n",
       "ESHrPd7LPhc6HZanmzHLFH  ('CC(C)(c1ccc(Oc2ccc(N)cc2)cc1)c1ccc(Oc2ccc(N)...   \n",
       "\n",
       "                       distribution  replicate_structure  \\\n",
       "hash-monomers                                              \n",
       "bebVfgVkBo4KvxVebKyauG           []                    0   \n",
       "9g9GvuxVE4Wr4ZuQSSZ3KX           []                    0   \n",
       "PBK6iwfvGwCAooynT7aE6Y           []                    0   \n",
       "M9f7jYAB5vq2n6dbxshLyU           []                    0   \n",
       "ESHrPd7LPhc6HZanmzHLFH           []                    0   \n",
       "\n",
       "                                                           smiles_polymer  \\\n",
       "hash-monomers                                                               \n",
       "bebVfgVkBo4KvxVebKyauG  Nc1ccc(Oc2ccc(C3(c4ccc(Oc5ccc(NC(=O)c6ccc(C(=O...   \n",
       "9g9GvuxVE4Wr4ZuQSSZ3KX  Nc1cccc(Oc2ccc(C(=O)c3ccc(Oc4cccc(NC(=O)c5ccc(...   \n",
       "PBK6iwfvGwCAooynT7aE6Y  O=C(O)C/C=C/CC(=O)OCCCCCCCCCCCCOC(=O)C/C=C/CC(...   \n",
       "M9f7jYAB5vq2n6dbxshLyU  Nc1cccc(Oc2ccc(C(=O)c3ccc(Oc4cccc(NC(=O)c5cccc...   \n",
       "ESHrPd7LPhc6HZanmzHLFH  CC(C)(c1ccc(Oc2ccc(N)cc2)cc1)c1ccc(Oc2ccc(NC(=...   \n",
       "\n",
       "                       mechanism  \n",
       "hash-monomers                     \n",
       "bebVfgVkBo4KvxVebKyauG     amide  \n",
       "9g9GvuxVE4Wr4ZuQSSZ3KX     amide  \n",
       "PBK6iwfvGwCAooynT7aE6Y     ester  \n",
       "M9f7jYAB5vq2n6dbxshLyU     amide  \n",
       "ESHrPd7LPhc6HZanmzHLFH     amide  "
      ]
     },
     "execution_count": 18,
     "metadata": {},
     "output_type": "execute_result"
    }
   ],
   "source": [
    "# import data\n",
    "data = pd.read_csv('../data/example_monomer_smiles.csv',index_col=0)\n",
    "\n",
    "# generate monomers tuple\n",
    "data['monomers'] = data.smiles_monomer.apply(pm.get_monomers)\n",
    "\n",
    "# # generate polymer structures with DP=8 and 2 replicate stuctures\n",
    "data = pm.thermoplastic(data.sample(5),DP=8,mechanism='all',replicate_structures=1)\n",
    "\n",
    "# remove any polymers which may have resulted in an error during reaction\n",
    "dferror = data[data.smiles_polymer.str.contains('ERR')]\n",
    "data = data[~data.smiles_polymer.str.contains('ERR')]\n",
    "\n",
    "# hash columns for tracking predictions and structures\n",
    "data = generate_hash(data,hash_cols=['monomers','replicate_structure'])\n",
    "data = generate_hash(data.reset_index(),hash_cols=['monomers'])\n",
    "\n",
    "data.head()"
   ]
  },
  {
   "attachments": {},
   "cell_type": "markdown",
   "metadata": {},
   "source": [
    "# Generate Atomic and Molecular/Morphological Fingerprints"
   ]
  },
  {
   "cell_type": "code",
   "execution_count": 30,
   "metadata": {},
   "outputs": [
    {
     "name": "stdout",
     "output_type": "stream",
     "text": [
      "Atomic Fingerprints\n",
      "                        10565946  38514050  77216203  98513984\n",
      "hash-smiles_polymer                                           \n",
      "Vmay8YstfdcJBTzeUsHs58       0.0       0.0       0.0       8.0\n",
      "B2pqfR2y2n8T3mypvPUneQ       0.0       7.0       1.0       8.0\n",
      "aqYuCc3GenJVbT4SmhYM4L       0.0       0.0       0.0       0.0\n",
      "VDXBmiG9e8H3GCuJ9KGpSa       0.0       7.0       0.0      12.0 ...\n",
      "\n",
      "\n",
      "Molecular and Morpholotical (mordred) Fingerprints\n",
      "                               ABC      ABCGG  nAcid  nBase\n",
      "hash-smiles_polymer                                        \n",
      "Vmay8YstfdcJBTzeUsHs58  171.833397  74.401398      1      0\n",
      "B2pqfR2y2n8T3mypvPUneQ  128.163636  55.588990      1      0\n",
      "aqYuCc3GenJVbT4SmhYM4L   63.209905  31.886685      1      0\n",
      "VDXBmiG9e8H3GCuJ9KGpSa  128.163636  58.354910      1      0 ...\n",
      "\n",
      "\n",
      "Atomic, Molecular/Morpholotical (mordred) Fingerprints\n",
      "                        10565946  38514050     SRW09      SRW10\n",
      "hash-smiles_polymer                                            \n",
      "Vmay8YstfdcJBTzeUsHs58       0.0       0.0  0.000000  12.613067\n",
      "B2pqfR2y2n8T3mypvPUneQ       0.0       7.0  0.000000  11.930655\n",
      "aqYuCc3GenJVbT4SmhYM4L       0.0       0.0  0.000000  10.254391\n",
      "VDXBmiG9e8H3GCuJ9KGpSa       0.0       7.0  0.000000  11.933811\n",
      "KsPoSAbjSAXmA4uKWtfw7r      16.0       0.0  9.294038  12.744824 ...\n",
      "\n",
      "\n"
     ]
    }
   ],
   "source": [
    "hfp.gen_fp_atomic_molecular_morphological(data)\n",
    "\n",
    "print('Atomic Fingerprints\\n{}{}\\n\\n'.format(hfp.df_atomic.iloc[0:4,0:4],' ...'))\n",
    "print('Molecular and Morpholotical (mordred) Fingerprints\\n{}{}\\n\\n'.format(hfp.df_molecular_morphological.iloc[0:4,0:4],' ...'))\n",
    "print('Atomic, Molecular/Morpholotical (mordred) Fingerprints\\n{}{}\\n\\n'.format(hfp.df_atomic_molecular_morphological.iloc[0:5,[0,1,-11,-10]],' ...'))"
   ]
  },
  {
   "cell_type": "code",
   "execution_count": null,
   "metadata": {},
   "outputs": [],
   "source": []
  }
 ],
 "metadata": {
  "kernelspec": {
   "display_name": "polyID",
   "language": "python",
   "name": "python3"
  },
  "language_info": {
   "codemirror_mode": {
    "name": "ipython",
    "version": 3
   },
   "file_extension": ".py",
   "mimetype": "text/x-python",
   "name": "python",
   "nbconvert_exporter": "python",
   "pygments_lexer": "ipython3",
   "version": "3.7.12"
  },
  "orig_nbformat": 4
 },
 "nbformat": 4,
 "nbformat_minor": 2
}
