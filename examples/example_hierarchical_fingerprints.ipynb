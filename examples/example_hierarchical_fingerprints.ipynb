{
 "cells": [
  {
   "cell_type": "code",
   "execution_count": 1,
   "metadata": {},
   "outputs": [
    {
     "name": "stderr",
     "output_type": "stream",
     "text": [
      "2023-03-31 10:29:50.257029: I tensorflow/core/platform/cpu_feature_guard.cc:193] This TensorFlow binary is optimized with oneAPI Deep Neural Network Library (oneDNN) to use the following CPU instructions in performance-critical operations:  AVX2 AVX_VNNI FMA\n",
      "To enable them in other operations, rebuild TensorFlow with the appropriate compiler flags.\n",
      "2023-03-31 10:29:50.618908: W tensorflow/compiler/xla/stream_executor/platform/default/dso_loader.cc:64] Could not load dynamic library 'libnvinfer.so.7'; dlerror: libnvinfer.so.7: cannot open shared object file: No such file or directory; LD_LIBRARY_PATH: /usr/local/cuda-11.2/lib64::/home/wilsoa6/miniconda3/envs/stonks/lib/\n",
      "2023-03-31 10:29:50.618965: W tensorflow/compiler/xla/stream_executor/platform/default/dso_loader.cc:64] Could not load dynamic library 'libnvinfer_plugin.so.7'; dlerror: libnvinfer_plugin.so.7: cannot open shared object file: No such file or directory; LD_LIBRARY_PATH: /usr/local/cuda-11.2/lib64::/home/wilsoa6/miniconda3/envs/stonks/lib/\n",
      "2023-03-31 10:29:50.618968: W tensorflow/compiler/tf2tensorrt/utils/py_utils.cc:38] TF-TRT Warning: Cannot dlopen some TensorRT libraries. If you would like to use Nvidia GPU with TensorRT, please make sure the missing libraries mentioned above are installed properly.\n"
     ]
    }
   ],
   "source": [
    "import pandas as pd\n",
    "from m2p import PolyMaker\n",
    "from polyid import generate_hash\n",
    "from fingerprints import HierarchticalFingerprints\n",
    "\n",
    "pm = PolyMaker()\n",
    "hfp = HierarchticalFingerprints()"
   ]
  },
  {
   "attachments": {},
   "cell_type": "markdown",
   "metadata": {},
   "source": [
    "# Generate Structures"
   ]
  },
  {
   "cell_type": "code",
   "execution_count": 2,
   "metadata": {},
   "outputs": [
    {
     "name": "stderr",
     "output_type": "stream",
     "text": [
      "100%|██████████| 5/5 [00:00<00:00, 14.92it/s]\n"
     ]
    },
    {
     "data": {
      "text/html": [
       "<div>\n",
       "<style scoped>\n",
       "    .dataframe tbody tr th:only-of-type {\n",
       "        vertical-align: middle;\n",
       "    }\n",
       "\n",
       "    .dataframe tbody tr th {\n",
       "        vertical-align: top;\n",
       "    }\n",
       "\n",
       "    .dataframe thead th {\n",
       "        text-align: right;\n",
       "    }\n",
       "</style>\n",
       "<table border=\"1\" class=\"dataframe\">\n",
       "  <thead>\n",
       "    <tr style=\"text-align: right;\">\n",
       "      <th></th>\n",
       "      <th>smiles_monomer</th>\n",
       "      <th>monomers</th>\n",
       "      <th>distribution</th>\n",
       "      <th>replicate_structure</th>\n",
       "      <th>smiles_polymer</th>\n",
       "      <th>mechanism</th>\n",
       "    </tr>\n",
       "    <tr>\n",
       "      <th>hash-smiles_polymer</th>\n",
       "      <th></th>\n",
       "      <th></th>\n",
       "      <th></th>\n",
       "      <th></th>\n",
       "      <th></th>\n",
       "      <th></th>\n",
       "    </tr>\n",
       "  </thead>\n",
       "  <tbody>\n",
       "    <tr>\n",
       "      <th>7pj5KxpS6wbGP247VzGkE4</th>\n",
       "      <td>CC1(C)CC(C)(c2ccc(Oc3ccc(-c4ccc(N)cc4)cc3C(F)(...</td>\n",
       "      <td>('O=C(O)c1cc(C(=O)O)c(C(=O)O)cc1C(=O)O', 'CC1(...</td>\n",
       "      <td>[]</td>\n",
       "      <td>0</td>\n",
       "      <td>CC1(C)CC(C)(c2ccc(Oc3ccc(-c4ccc(N)cc4)cc3C(F)(...</td>\n",
       "      <td>amide</td>\n",
       "    </tr>\n",
       "    <tr>\n",
       "      <th>bGVjhweP7tvL2MqLYUHDay</th>\n",
       "      <td>O=C(O)CCCCC(=O)O.OCC(CO)(CBr)CBr</td>\n",
       "      <td>('O=C(O)CCCCC(=O)O', 'OCC(CO)(CBr)CBr')</td>\n",
       "      <td>[]</td>\n",
       "      <td>0</td>\n",
       "      <td>O=C(O)CCCCC(=O)OCC(CBr)(CBr)COC(=O)CCCCC(=O)OC...</td>\n",
       "      <td>ester</td>\n",
       "    </tr>\n",
       "    <tr>\n",
       "      <th>nftut9Tz2wwCVnxe5EHyWS</th>\n",
       "      <td>O=C(O)c1ccc(C(=O)O)cc1.OCCCCO</td>\n",
       "      <td>('OCCCCO', 'O=C(O)c1ccc(C(=O)O)cc1')</td>\n",
       "      <td>[]</td>\n",
       "      <td>0</td>\n",
       "      <td>O=C(O)c1ccc(C(=O)OCCCCOC(=O)c2ccc(C(=O)OCCCCOC...</td>\n",
       "      <td>ester</td>\n",
       "    </tr>\n",
       "    <tr>\n",
       "      <th>YGkD3DKQsU4iHR3dSoKsXu</th>\n",
       "      <td>CC(C)(CO)C(=O)O</td>\n",
       "      <td>('CC(C)(CO)C(=O)O',)</td>\n",
       "      <td>[]</td>\n",
       "      <td>0</td>\n",
       "      <td>CC(C)(COC(=O)C(C)(C)COC(=O)C(C)(C)COC(=O)C(C)(...</td>\n",
       "      <td>ester</td>\n",
       "    </tr>\n",
       "    <tr>\n",
       "      <th>8a9FUMxB7L2euEP2Va5PgR</th>\n",
       "      <td>C[Si](C)(c1ccc(C(=O)Nc2ccc(C(=O)O)cc2)cc1)c1cc...</td>\n",
       "      <td>('Nc1ccc(Cc2ccc(N)cc2)cc1', 'C[Si](C)(c1ccc(C(...</td>\n",
       "      <td>[]</td>\n",
       "      <td>0</td>\n",
       "      <td>C[Si](C)(c1ccc(C(=O)Nc2ccc(C(=O)O)cc2)cc1)c1cc...</td>\n",
       "      <td>amide</td>\n",
       "    </tr>\n",
       "  </tbody>\n",
       "</table>\n",
       "</div>"
      ],
      "text/plain": [
       "                                                           smiles_monomer  \\\n",
       "hash-smiles_polymer                                                         \n",
       "7pj5KxpS6wbGP247VzGkE4  CC1(C)CC(C)(c2ccc(Oc3ccc(-c4ccc(N)cc4)cc3C(F)(...   \n",
       "bGVjhweP7tvL2MqLYUHDay                   O=C(O)CCCCC(=O)O.OCC(CO)(CBr)CBr   \n",
       "nftut9Tz2wwCVnxe5EHyWS                      O=C(O)c1ccc(C(=O)O)cc1.OCCCCO   \n",
       "YGkD3DKQsU4iHR3dSoKsXu                                    CC(C)(CO)C(=O)O   \n",
       "8a9FUMxB7L2euEP2Va5PgR  C[Si](C)(c1ccc(C(=O)Nc2ccc(C(=O)O)cc2)cc1)c1cc...   \n",
       "\n",
       "                                                                 monomers  \\\n",
       "hash-smiles_polymer                                                         \n",
       "7pj5KxpS6wbGP247VzGkE4  ('O=C(O)c1cc(C(=O)O)c(C(=O)O)cc1C(=O)O', 'CC1(...   \n",
       "bGVjhweP7tvL2MqLYUHDay            ('O=C(O)CCCCC(=O)O', 'OCC(CO)(CBr)CBr')   \n",
       "nftut9Tz2wwCVnxe5EHyWS               ('OCCCCO', 'O=C(O)c1ccc(C(=O)O)cc1')   \n",
       "YGkD3DKQsU4iHR3dSoKsXu                               ('CC(C)(CO)C(=O)O',)   \n",
       "8a9FUMxB7L2euEP2Va5PgR  ('Nc1ccc(Cc2ccc(N)cc2)cc1', 'C[Si](C)(c1ccc(C(...   \n",
       "\n",
       "                       distribution  replicate_structure  \\\n",
       "hash-smiles_polymer                                        \n",
       "7pj5KxpS6wbGP247VzGkE4           []                    0   \n",
       "bGVjhweP7tvL2MqLYUHDay           []                    0   \n",
       "nftut9Tz2wwCVnxe5EHyWS           []                    0   \n",
       "YGkD3DKQsU4iHR3dSoKsXu           []                    0   \n",
       "8a9FUMxB7L2euEP2Va5PgR           []                    0   \n",
       "\n",
       "                                                           smiles_polymer  \\\n",
       "hash-smiles_polymer                                                         \n",
       "7pj5KxpS6wbGP247VzGkE4  CC1(C)CC(C)(c2ccc(Oc3ccc(-c4ccc(N)cc4)cc3C(F)(...   \n",
       "bGVjhweP7tvL2MqLYUHDay  O=C(O)CCCCC(=O)OCC(CBr)(CBr)COC(=O)CCCCC(=O)OC...   \n",
       "nftut9Tz2wwCVnxe5EHyWS  O=C(O)c1ccc(C(=O)OCCCCOC(=O)c2ccc(C(=O)OCCCCOC...   \n",
       "YGkD3DKQsU4iHR3dSoKsXu  CC(C)(COC(=O)C(C)(C)COC(=O)C(C)(C)COC(=O)C(C)(...   \n",
       "8a9FUMxB7L2euEP2Va5PgR  C[Si](C)(c1ccc(C(=O)Nc2ccc(C(=O)O)cc2)cc1)c1cc...   \n",
       "\n",
       "                       mechanism  \n",
       "hash-smiles_polymer               \n",
       "7pj5KxpS6wbGP247VzGkE4     amide  \n",
       "bGVjhweP7tvL2MqLYUHDay     ester  \n",
       "nftut9Tz2wwCVnxe5EHyWS     ester  \n",
       "YGkD3DKQsU4iHR3dSoKsXu     ester  \n",
       "8a9FUMxB7L2euEP2Va5PgR     amide  "
      ]
     },
     "execution_count": 2,
     "metadata": {},
     "output_type": "execute_result"
    }
   ],
   "source": [
    "# import data\n",
    "data = pd.read_csv('../data/example_monomer_smiles.csv',index_col=0)\n",
    "\n",
    "# generate monomers tuple\n",
    "data['monomers'] = data.smiles_monomer.apply(pm.get_monomers)\n",
    "\n",
    "# # generate polymer structures with DP=8 and 2 replicate stuctures\n",
    "data = pm.thermoplastic(data.sample(5),DP=8,mechanism='all',replicate_structures=1)\n",
    "\n",
    "# remove any polymers which may have resulted in an error during reaction\n",
    "dferror = data[data.smiles_polymer.str.contains('ERR')]\n",
    "data = data[~data.smiles_polymer.str.contains('ERR')]\n",
    "\n",
    "# hash columns for tracking predictions and structures\n",
    "data = generate_hash(data,hash_cols=['smiles_polymer'])\n",
    "\n",
    "\n",
    "data"
   ]
  },
  {
   "attachments": {},
   "cell_type": "markdown",
   "metadata": {},
   "source": [
    "# Generate Atomic and Molecular/Morphological Fingerprints"
   ]
  },
  {
   "cell_type": "code",
   "execution_count": 3,
   "metadata": {},
   "outputs": [
    {
     "name": "stderr",
     "output_type": "stream",
     "text": [
      "100%|██████████| 5/5 [00:00<00:00, 492.93it/s]\n",
      "100%|██████████| 5/5 [00:08<00:00,  1.69s/it]"
     ]
    },
    {
     "name": "stdout",
     "output_type": "stream",
     "text": [
      "Atomic Fingerprints\n",
      "                        132611095  133666253  227001719  305828102\n",
      "hash-smiles_polymer                                               \n",
      "7pj5KxpS6wbGP247VzGkE4        5.0        0.0        0.0       10.0\n",
      "bGVjhweP7tvL2MqLYUHDay        0.0        7.0        7.0        0.0\n",
      "nftut9Tz2wwCVnxe5EHyWS        0.0        0.0        0.0        0.0\n",
      "YGkD3DKQsU4iHR3dSoKsXu        0.0        0.0        0.0        0.0 ...\n",
      "\n",
      "\n",
      "Molecular and Morphological (mordred) Fingerprints\n",
      "                               ABC       ABCGG  nAcid  nBase\n",
      "hash-smiles_polymer                                         \n",
      "7pj5KxpS6wbGP247VzGkE4  256.375771  135.098718      5      0\n",
      "bGVjhweP7tvL2MqLYUHDay   49.067769   36.535805      1      0\n",
      "nftut9Tz2wwCVnxe5EHyWS   48.744248   28.439315      1      0\n",
      "YGkD3DKQsU4iHR3dSoKsXu   42.632309   35.773633      1      0 ...\n",
      "\n",
      "\n",
      "Atomic, Molecular/Morphological (mordred) Fingerprints\n",
      "                        132611095  133666253     SRW09      SRW10\n",
      "hash-smiles_polymer                                              \n",
      "7pj5KxpS6wbGP247VzGkE4        5.0        0.0  8.999743  12.940743\n",
      "bGVjhweP7tvL2MqLYUHDay        0.0        7.0  0.000000  10.693920\n",
      "nftut9Tz2wwCVnxe5EHyWS        0.0        0.0  0.000000  10.714573\n",
      "YGkD3DKQsU4iHR3dSoKsXu        0.0        0.0  0.000000  10.942226\n",
      "8a9FUMxB7L2euEP2Va5PgR        0.0        0.0  0.000000  12.256980 ...\n",
      "\n",
      "\n"
     ]
    },
    {
     "name": "stderr",
     "output_type": "stream",
     "text": [
      "\n"
     ]
    }
   ],
   "source": [
    "hfp.gen_fp_atomic_molecular_morphological(data)\n",
    "\n",
    "print('Atomic Fingerprints\\n{}{}\\n\\n'.format(hfp.df_atomic.iloc[0:4,0:4],' ...'))\n",
    "print('Molecular and Morphological (mordred) Fingerprints\\n{}{}\\n\\n'.format(hfp.df_molecular_morphological.iloc[0:4,0:4],' ...'))\n",
    "print('Atomic, Molecular/Morphological (mordred) Fingerprints\\n{}{}\\n\\n'.format(hfp.df_atomic_molecular_morphological.iloc[0:5,[0,1,-11,-10]],' ...'))"
   ]
  }
 ],
 "metadata": {
  "kernelspec": {
   "display_name": "polyID",
   "language": "python",
   "name": "python3"
  },
  "language_info": {
   "codemirror_mode": {
    "name": "ipython",
    "version": 3
   },
   "file_extension": ".py",
   "mimetype": "text/x-python",
   "name": "python",
   "nbconvert_exporter": "python",
   "pygments_lexer": "ipython3",
   "version": "3.7.12"
  },
  "orig_nbformat": 4
 },
 "nbformat": 4,
 "nbformat_minor": 2
}
