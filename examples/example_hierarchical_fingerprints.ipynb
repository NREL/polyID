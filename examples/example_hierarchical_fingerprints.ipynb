{
 "cells": [
  {
   "cell_type": "code",
   "execution_count": 1,
   "metadata": {},
   "outputs": [
    {
     "name": "stderr",
     "output_type": "stream",
     "text": [
      "2023-03-31 10:14:16.149791: I tensorflow/core/platform/cpu_feature_guard.cc:193] This TensorFlow binary is optimized with oneAPI Deep Neural Network Library (oneDNN) to use the following CPU instructions in performance-critical operations:  AVX2 AVX_VNNI FMA\n",
      "To enable them in other operations, rebuild TensorFlow with the appropriate compiler flags.\n"
     ]
    }
   ],
   "source": [
    "import pandas as pd\n",
    "from m2p import PolyMaker\n",
    "from polyid import generate_hash\n",
    "from fingerprints import HierarchticalFingerprints\n",
    "\n",
    "pm = PolyMaker()\n",
    "hfp = HierarchticalFingerprints()\n",
    "\n",
    "%load_ext autoreload\n",
    "%autoreload 2"
   ]
  },
  {
   "attachments": {},
   "cell_type": "markdown",
   "metadata": {},
   "source": [
    "# Generate Structures"
   ]
  },
  {
   "cell_type": "code",
   "execution_count": null,
   "metadata": {},
   "outputs": [],
   "source": [
    "# import data\n",
    "data = pd.read_csv('../data/example_monomer_smiles.csv',index_col=0)\n",
    "\n",
    "# generate monomers tuple\n",
    "data['monomers'] = data.smiles_monomer.apply(pm.get_monomers)\n",
    "\n",
    "# # generate polymer structures with DP=8 and 2 replicate stuctures\n",
    "data = pm.thermoplastic(data.sample(5),DP=8,mechanism='all',replicate_structures=1)\n",
    "\n",
    "# remove any polymers which may have resulted in an error during reaction\n",
    "dferror = data[data.smiles_polymer.str.contains('ERR')]\n",
    "data = data[~data.smiles_polymer.str.contains('ERR')]\n",
    "\n",
    "# hash columns for tracking predictions and structures\n",
    "data = generate_hash(data,hash_cols=['monomers','replicate_structure'])\n",
    "data = generate_hash(data.reset_index(),hash_cols=['monomers'])\n",
    "\n",
    "data.head()"
   ]
  },
  {
   "attachments": {},
   "cell_type": "markdown",
   "metadata": {},
   "source": [
    "# Generate Atomic and Molecular/Morphological Fingerprints"
   ]
  },
  {
   "cell_type": "code",
   "execution_count": null,
   "metadata": {},
   "outputs": [],
   "source": [
    "hfp.gen_fp_atomic_molecular_morphological(data)\n",
    "\n",
    "print('Atomic FPs\\n{}\\n'.format(hfp.df_atomic.to_markdown()))\n",
    "print('Molecular and Morpholotical (mordred) FPs\\n{}\\n'.format(hfp.df_molecular_morphological.to_markdown()))\n",
    "print('Atomic, Molecular/Morpholotical (mordred) FPs\\n{}\\n'.format(hfp.df_atomic_molecular_morphological.to_markdown()))"
   ]
  },
  {
   "cell_type": "code",
   "execution_count": null,
   "metadata": {},
   "outputs": [],
   "source": []
  },
  {
   "cell_type": "code",
   "execution_count": null,
   "metadata": {},
   "outputs": [],
   "source": []
  }
 ],
 "metadata": {
  "kernelspec": {
   "display_name": "polyID",
   "language": "python",
   "name": "python3"
  },
  "language_info": {
   "codemirror_mode": {
    "name": "ipython",
    "version": 3
   },
   "file_extension": ".py",
   "mimetype": "text/x-python",
   "name": "python",
   "nbconvert_exporter": "python",
   "pygments_lexer": "ipython3",
   "version": "3.7.12"
  },
  "orig_nbformat": 4
 },
 "nbformat": 4,
 "nbformat_minor": 2
}
