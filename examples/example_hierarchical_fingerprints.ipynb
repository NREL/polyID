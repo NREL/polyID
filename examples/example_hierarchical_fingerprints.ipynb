{
 "cells": [
  {
   "cell_type": "code",
   "execution_count": 1,
   "metadata": {},
   "outputs": [
    {
     "name": "stderr",
     "output_type": "stream",
     "text": [
      "2023-03-31 10:27:28.623547: I tensorflow/core/platform/cpu_feature_guard.cc:193] This TensorFlow binary is optimized with oneAPI Deep Neural Network Library (oneDNN) to use the following CPU instructions in performance-critical operations:  AVX2 AVX_VNNI FMA\n",
      "To enable them in other operations, rebuild TensorFlow with the appropriate compiler flags.\n",
      "2023-03-31 10:27:28.993579: W tensorflow/compiler/xla/stream_executor/platform/default/dso_loader.cc:64] Could not load dynamic library 'libnvinfer.so.7'; dlerror: libnvinfer.so.7: cannot open shared object file: No such file or directory; LD_LIBRARY_PATH: /usr/local/cuda-11.2/lib64::/home/wilsoa6/miniconda3/envs/stonks/lib/\n",
      "2023-03-31 10:27:28.993638: W tensorflow/compiler/xla/stream_executor/platform/default/dso_loader.cc:64] Could not load dynamic library 'libnvinfer_plugin.so.7'; dlerror: libnvinfer_plugin.so.7: cannot open shared object file: No such file or directory; LD_LIBRARY_PATH: /usr/local/cuda-11.2/lib64::/home/wilsoa6/miniconda3/envs/stonks/lib/\n",
      "2023-03-31 10:27:28.993642: W tensorflow/compiler/tf2tensorrt/utils/py_utils.cc:38] TF-TRT Warning: Cannot dlopen some TensorRT libraries. If you would like to use Nvidia GPU with TensorRT, please make sure the missing libraries mentioned above are installed properly.\n"
     ]
    }
   ],
   "source": [
    "import pandas as pd\n",
    "from m2p import PolyMaker\n",
    "from polyid import generate_hash\n",
    "from fingerprints import HierarchticalFingerprints\n",
    "\n",
    "pm = PolyMaker()\n",
    "hfp = HierarchticalFingerprints()\n",
    "\n",
    "%load_ext autoreload\n",
    "%autoreload 2"
   ]
  },
  {
   "attachments": {},
   "cell_type": "markdown",
   "metadata": {},
   "source": [
    "# Generate Structures"
   ]
  },
  {
   "cell_type": "code",
   "execution_count": 2,
   "metadata": {},
   "outputs": [
    {
     "name": "stderr",
     "output_type": "stream",
     "text": [
      "100%|██████████| 5/5 [00:00<00:00, 19.97it/s]\n"
     ]
    },
    {
     "data": {
      "text/html": [
       "<div>\n",
       "<style scoped>\n",
       "    .dataframe tbody tr th:only-of-type {\n",
       "        vertical-align: middle;\n",
       "    }\n",
       "\n",
       "    .dataframe tbody tr th {\n",
       "        vertical-align: top;\n",
       "    }\n",
       "\n",
       "    .dataframe thead th {\n",
       "        text-align: right;\n",
       "    }\n",
       "</style>\n",
       "<table border=\"1\" class=\"dataframe\">\n",
       "  <thead>\n",
       "    <tr style=\"text-align: right;\">\n",
       "      <th></th>\n",
       "      <th>smiles_monomer</th>\n",
       "      <th>monomers</th>\n",
       "      <th>distribution</th>\n",
       "      <th>replicate_structure</th>\n",
       "      <th>smiles_polymer</th>\n",
       "      <th>mechanism</th>\n",
       "    </tr>\n",
       "    <tr>\n",
       "      <th>hash-smiles_polymer</th>\n",
       "      <th></th>\n",
       "      <th></th>\n",
       "      <th></th>\n",
       "      <th></th>\n",
       "      <th></th>\n",
       "      <th></th>\n",
       "    </tr>\n",
       "  </thead>\n",
       "  <tbody>\n",
       "    <tr>\n",
       "      <th>86tohyFm8nd9utdCyWYYMR</th>\n",
       "      <td>O=C(Cl)CCCC(=O)Cl.OCC1CCC(CO)CC1</td>\n",
       "      <td>('OCC1CCC(CO)CC1', 'O=C(Cl)CCCC(=O)Cl')</td>\n",
       "      <td>[]</td>\n",
       "      <td>0</td>\n",
       "      <td>O=C(Cl)CCCC(=O)OCC1CCC(COC(=O)CCCC(=O)OCC2CCC(...</td>\n",
       "      <td>ester</td>\n",
       "    </tr>\n",
       "    <tr>\n",
       "      <th>XcGAkBhYsc94XppJaPvb2f</th>\n",
       "      <td>O=C(O)c1ccc(C(=O)O)c2c(C(=O)O)ccc(C(=O)O)c12.O...</td>\n",
       "      <td>('OCCCCCCCCCCCCO', 'O=C(O)c1ccc(C(=O)O)c2c(C(=...</td>\n",
       "      <td>[]</td>\n",
       "      <td>0</td>\n",
       "      <td>O=C(O)c1ccc(C(=O)O)c2c(C(=O)OCCCCCCCCCCCCOC(=O...</td>\n",
       "      <td>ester</td>\n",
       "    </tr>\n",
       "    <tr>\n",
       "      <th>XWz4Mj2yA3vNxKNYVQM87Y</th>\n",
       "      <td>O=C(O)CCCCCCCCCCCCCCCO</td>\n",
       "      <td>('O=C(O)CCCCCCCCCCCCCCCO',)</td>\n",
       "      <td>[]</td>\n",
       "      <td>0</td>\n",
       "      <td>O=C(O)CCCCCCCCCCCCCCCOC(=O)CCCCCCCCCCCCCCCOC(=...</td>\n",
       "      <td>ester</td>\n",
       "    </tr>\n",
       "    <tr>\n",
       "      <th>Gtcwupoq2EaVrqqYSHcgbq</th>\n",
       "      <td>Nc1ccc(Oc2ccc(N)cc2)cc1.O=C1/C(=C/c2ccc(N3C(=O...</td>\n",
       "      <td>('Nc1ccc(Oc2ccc(N)cc2)cc1', 'O=C1/C(=C/c2ccc(N...</td>\n",
       "      <td>[]</td>\n",
       "      <td>0</td>\n",
       "      <td>Nc1ccc(Oc2ccc(NC(=O)c3ccc4c(c3)C(=O)N(c3ccc(/C...</td>\n",
       "      <td>amide</td>\n",
       "    </tr>\n",
       "    <tr>\n",
       "      <th>NKwR8NYmaUhztGFGMhKwkx</th>\n",
       "      <td>O=C(O)c1ccc(-c2ccc(-c3ccc(C(=O)O)cc3)cc2)cc1.OCCO</td>\n",
       "      <td>('OCCO', 'O=C(O)c1ccc(-c2ccc(-c3ccc(C(=O)O)cc3...</td>\n",
       "      <td>[]</td>\n",
       "      <td>0</td>\n",
       "      <td>O=C(O)c1ccc(-c2ccc(-c3ccc(C(=O)OCCOC(=O)c4ccc(...</td>\n",
       "      <td>ester</td>\n",
       "    </tr>\n",
       "  </tbody>\n",
       "</table>\n",
       "</div>"
      ],
      "text/plain": [
       "                                                           smiles_monomer  \\\n",
       "hash-smiles_polymer                                                         \n",
       "86tohyFm8nd9utdCyWYYMR                   O=C(Cl)CCCC(=O)Cl.OCC1CCC(CO)CC1   \n",
       "XcGAkBhYsc94XppJaPvb2f  O=C(O)c1ccc(C(=O)O)c2c(C(=O)O)ccc(C(=O)O)c12.O...   \n",
       "XWz4Mj2yA3vNxKNYVQM87Y                             O=C(O)CCCCCCCCCCCCCCCO   \n",
       "Gtcwupoq2EaVrqqYSHcgbq  Nc1ccc(Oc2ccc(N)cc2)cc1.O=C1/C(=C/c2ccc(N3C(=O...   \n",
       "NKwR8NYmaUhztGFGMhKwkx  O=C(O)c1ccc(-c2ccc(-c3ccc(C(=O)O)cc3)cc2)cc1.OCCO   \n",
       "\n",
       "                                                                 monomers  \\\n",
       "hash-smiles_polymer                                                         \n",
       "86tohyFm8nd9utdCyWYYMR            ('OCC1CCC(CO)CC1', 'O=C(Cl)CCCC(=O)Cl')   \n",
       "XcGAkBhYsc94XppJaPvb2f  ('OCCCCCCCCCCCCO', 'O=C(O)c1ccc(C(=O)O)c2c(C(=...   \n",
       "XWz4Mj2yA3vNxKNYVQM87Y                        ('O=C(O)CCCCCCCCCCCCCCCO',)   \n",
       "Gtcwupoq2EaVrqqYSHcgbq  ('Nc1ccc(Oc2ccc(N)cc2)cc1', 'O=C1/C(=C/c2ccc(N...   \n",
       "NKwR8NYmaUhztGFGMhKwkx  ('OCCO', 'O=C(O)c1ccc(-c2ccc(-c3ccc(C(=O)O)cc3...   \n",
       "\n",
       "                       distribution  replicate_structure  \\\n",
       "hash-smiles_polymer                                        \n",
       "86tohyFm8nd9utdCyWYYMR           []                    0   \n",
       "XcGAkBhYsc94XppJaPvb2f           []                    0   \n",
       "XWz4Mj2yA3vNxKNYVQM87Y           []                    0   \n",
       "Gtcwupoq2EaVrqqYSHcgbq           []                    0   \n",
       "NKwR8NYmaUhztGFGMhKwkx           []                    0   \n",
       "\n",
       "                                                           smiles_polymer  \\\n",
       "hash-smiles_polymer                                                         \n",
       "86tohyFm8nd9utdCyWYYMR  O=C(Cl)CCCC(=O)OCC1CCC(COC(=O)CCCC(=O)OCC2CCC(...   \n",
       "XcGAkBhYsc94XppJaPvb2f  O=C(O)c1ccc(C(=O)O)c2c(C(=O)OCCCCCCCCCCCCOC(=O...   \n",
       "XWz4Mj2yA3vNxKNYVQM87Y  O=C(O)CCCCCCCCCCCCCCCOC(=O)CCCCCCCCCCCCCCCOC(=...   \n",
       "Gtcwupoq2EaVrqqYSHcgbq  Nc1ccc(Oc2ccc(NC(=O)c3ccc4c(c3)C(=O)N(c3ccc(/C...   \n",
       "NKwR8NYmaUhztGFGMhKwkx  O=C(O)c1ccc(-c2ccc(-c3ccc(C(=O)OCCOC(=O)c4ccc(...   \n",
       "\n",
       "                       mechanism  \n",
       "hash-smiles_polymer               \n",
       "86tohyFm8nd9utdCyWYYMR     ester  \n",
       "XcGAkBhYsc94XppJaPvb2f     ester  \n",
       "XWz4Mj2yA3vNxKNYVQM87Y     ester  \n",
       "Gtcwupoq2EaVrqqYSHcgbq     amide  \n",
       "NKwR8NYmaUhztGFGMhKwkx     ester  "
      ]
     },
     "execution_count": 2,
     "metadata": {},
     "output_type": "execute_result"
    }
   ],
   "source": [
    "# import data\n",
    "data = pd.read_csv('../data/example_monomer_smiles.csv',index_col=0)\n",
    "\n",
    "# generate monomers tuple\n",
    "data['monomers'] = data.smiles_monomer.apply(pm.get_monomers)\n",
    "\n",
    "# # generate polymer structures with DP=8 and 2 replicate stuctures\n",
    "data = pm.thermoplastic(data.sample(5),DP=8,mechanism='all',replicate_structures=1)\n",
    "\n",
    "# remove any polymers which may have resulted in an error during reaction\n",
    "dferror = data[data.smiles_polymer.str.contains('ERR')]\n",
    "data = data[~data.smiles_polymer.str.contains('ERR')]\n",
    "\n",
    "# hash columns for tracking predictions and structures\n",
    "data = generate_hash(data,hash_cols=['smiles_polymer'])\n",
    "\n",
    "\n",
    "data"
   ]
  },
  {
   "attachments": {},
   "cell_type": "markdown",
   "metadata": {},
   "source": [
    "# Generate Atomic and Molecular/Morphological Fingerprints"
   ]
  },
  {
   "cell_type": "code",
   "execution_count": 3,
   "metadata": {},
   "outputs": [
    {
     "name": "stderr",
     "output_type": "stream",
     "text": [
      "100%|██████████| 5/5 [00:00<00:00, 523.95it/s]\n",
      "100%|██████████| 5/5 [00:06<00:00,  1.38s/it]"
     ]
    },
    {
     "name": "stdout",
     "output_type": "stream",
     "text": [
      "Atomic Fingerprints\n",
      "                        10565946   132611095  161963127  195323148\n",
      "hash-smiles_polymer                                               \n",
      "86tohyFm8nd9utdCyWYYMR        0.0        0.0        0.0        1.0\n",
      "XcGAkBhYsc94XppJaPvb2f        0.0        5.0       40.0        0.0\n",
      "XWz4Mj2yA3vNxKNYVQM87Y        0.0        0.0       88.0        0.0\n",
      "Gtcwupoq2EaVrqqYSHcgbq       20.0        0.0        0.0        0.0 ...\n",
      "\n",
      "\n",
      "Molecular and Morpholotical (mordred) Fingerprints\n",
      "                               ABC      ABCGG  nAcid  nBase\n",
      "hash-smiles_polymer                                        \n",
      "86tohyFm8nd9utdCyWYYMR   51.896196  29.248913      0      0\n",
      "XcGAkBhYsc94XppJaPvb2f   95.520052  55.959254      5      0\n",
      "XWz4Mj2yA3vNxKNYVQM87Y  102.807885  40.549736      1      0\n",
      "Gtcwupoq2EaVrqqYSHcgbq  198.683425  86.283976      1      0 ...\n",
      "\n",
      "\n",
      "Atomic, Molecular/Morpholotical (mordred) Fingerprints\n",
      "                        10565946  132611095     SRW09      SRW10\n",
      "hash-smiles_polymer                                             \n",
      "86tohyFm8nd9utdCyWYYMR       0.0        0.0  0.000000  10.626800\n",
      "XcGAkBhYsc94XppJaPvb2f       0.0        5.0  0.000000  11.518500\n",
      "XWz4Mj2yA3vNxKNYVQM87Y       0.0        0.0  0.000000  10.657706\n",
      "Gtcwupoq2EaVrqqYSHcgbq      20.0        0.0  9.570041  12.572454\n",
      "NKwR8NYmaUhztGFGMhKwkx       0.0        0.0  0.000000  11.481053 ...\n",
      "\n",
      "\n"
     ]
    },
    {
     "name": "stderr",
     "output_type": "stream",
     "text": [
      "\n"
     ]
    }
   ],
   "source": [
    "hfp.gen_fp_atomic_molecular_morphological(data)\n",
    "\n",
    "print('Atomic Fingerprints\\n{}{}\\n\\n'.format(hfp.df_atomic.iloc[0:4,0:4],' ...'))\n",
    "print('Molecular and Morpholotical (mordred) Fingerprints\\n{}{}\\n\\n'.format(hfp.df_molecular_morphological.iloc[0:4,0:4],' ...'))\n",
    "print('Atomic, Molecular/Morpholotical (mordred) Fingerprints\\n{}{}\\n\\n'.format(hfp.df_atomic_molecular_morphological.iloc[0:5,[0,1,-11,-10]],' ...'))"
   ]
  },
  {
   "cell_type": "code",
   "execution_count": null,
   "metadata": {},
   "outputs": [],
   "source": []
  }
 ],
 "metadata": {
  "kernelspec": {
   "display_name": "polyID",
   "language": "python",
   "name": "python3"
  },
  "language_info": {
   "codemirror_mode": {
    "name": "ipython",
    "version": 3
   },
   "file_extension": ".py",
   "mimetype": "text/x-python",
   "name": "python",
   "nbconvert_exporter": "python",
   "pygments_lexer": "ipython3",
   "version": "3.7.12"
  },
  "orig_nbformat": 4
 },
 "nbformat": 4,
 "nbformat_minor": 2
}
