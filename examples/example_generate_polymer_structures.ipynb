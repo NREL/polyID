{
 "cells": [
  {
   "cell_type": "code",
   "execution_count": 1,
   "metadata": {},
   "outputs": [],
   "source": [
    "import pandas as pd\n",
    "from m2p import PolyMaker\n",
    "\n",
    "from sklearn.model_selection import train_test_split\n",
    "from polyid import generate_hash\n",
    "\n",
    "pm = PolyMaker()"
   ]
  },
  {
   "cell_type": "code",
   "execution_count": 2,
   "metadata": {},
   "outputs": [
    {
     "name": "stderr",
     "output_type": "stream",
     "text": [
      "100%|██████████| 578/578 [01:30<00:00,  6.41it/s]\n"
     ]
    }
   ],
   "source": [
    "# import data\n",
    "data = pd.read_csv('../data/example_monomer_smiles.csv',index_col=0)\n",
    "\n",
    "# cannonicalize smiles using rdkit\n",
    "data = pd.DataFrame(data.smiles_monomer.apply(pm.checksmile))\n",
    "\n",
    "# generate monomers tuple\n",
    "data['monomers'] = data.smiles_monomer.apply(pm.get_monomers)\n",
    "\n",
    "# # generate polymer structures with DP=8 and 2 replicate stuctures\n",
    "data = pm.thermoplastic(data,DP=8,mechanism='all',replicate_structures=2)\n",
    "\n",
    "# remove any polymers which may have resulted in an error during reaction\n",
    "dferror = data[data.smiles_polymer.str.contains('ERR')]\n",
    "data = data[~data.smiles_polymer.str.contains('ERR')]\n",
    "\n",
    "# hash columns for tracking predictions and structures\n",
    "data = generate_hash(data,hash_cols=['monomers','replicate_structure'])\n",
    "data = generate_hash(data.reset_index(),hash_cols=['monomers'])\n",
    "\n",
    "# split out train and test with stratification across mechanism (polymer type)\n",
    "data_0 = data[data.replicate_structure==0]\n",
    "dftrain_0, dftest_0 = train_test_split(data_0,\n",
    "                            test_size=0.2,\n",
    "                            stratify=data_0['mechanism'],\n",
    "                            random_state=0)\n",
    "\n",
    "dftrain = data.loc[dftrain_0.index]\n",
    "dftest = data.loc[dftest_0.index]"
   ]
  },
  {
   "cell_type": "code",
   "execution_count": 3,
   "metadata": {},
   "outputs": [],
   "source": [
    "# verify no polymers had error from polymerization\n",
    "assert dftrain[dftrain.smiles_polymer.str.contains('ERR')].shape[0]==0\n",
    "assert dftest[dftest.smiles_polymer.str.contains('ERR')].shape[0]==0\n",
    "\n",
    "# save\n",
    "dftrain.to_csv('../data/example_polymer_smiles_train.csv')\n",
    "dftest.to_csv('../data/example_polymer_smiles_test.csv')"
   ]
  }
 ],
 "metadata": {
  "kernelspec": {
   "display_name": "Python 3.7.12 ('polyID')",
   "language": "python",
   "name": "python3"
  },
  "language_info": {
   "codemirror_mode": {
    "name": "ipython",
    "version": 3
   },
   "file_extension": ".py",
   "mimetype": "text/x-python",
   "name": "python",
   "nbconvert_exporter": "python",
   "pygments_lexer": "ipython3",
   "version": "3.7.12"
  },
  "orig_nbformat": 4,
  "vscode": {
   "interpreter": {
    "hash": "b479e74d0a1a0222305f58eaed2f757cf21fa5e4690689fbf117b068e599aac1"
   }
  }
 },
 "nbformat": 4,
 "nbformat_minor": 2
}
