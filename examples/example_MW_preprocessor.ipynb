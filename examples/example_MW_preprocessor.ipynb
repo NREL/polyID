{
 "cells": [
  {
   "cell_type": "markdown",
   "id": "cc0f491c-556d-4345-8e2a-6989f307e18d",
   "metadata": {},
   "source": [
    "# Molecular Weight Binning Preprocessor\n",
    "\n",
    "This notebook outlines the creation of a preprocessor that bins molecular weights. The binning is done using the sklearn KBinsDiscretizer and can use one of three strategies\n",
    "1. quantile (default)\n",
    "2. uniform\n",
    "3. kmeans\n",
    "\n",
    "The default, quantile, attempts to get uniform distribution of items into bins. The bin widths will not be uniform, but are varied to equalize number of elements. Uniform uses an evenly spaced binning. Kmeans uses kmeans to determine the bin edges."
   ]
  },
  {
   "cell_type": "code",
   "execution_count": 1,
   "id": "ae8841b6-986f-4ea4-8feb-b2c2c57a0361",
   "metadata": {},
   "outputs": [],
   "source": [
    "from sklearn.preprocessing import QuantileTransformer, KBinsDiscretizer\n",
    "import matplotlib.pyplot as plt\n",
    "import seaborn as sns\n",
    "import pandas as pd\n",
    "import numpy as np\n",
    "\n",
    "from polyid.preprocessors import PolymerPreprocessor\n",
    "import networkx as nx\n",
    "from typing import Dict\n",
    "import tensorflow as tf\n",
    "\n",
    "from polyid.polyid import MultiModel"
   ]
  },
  {
   "cell_type": "markdown",
   "id": "394f4648-435a-4653-9c38-a34c73f0d992",
   "metadata": {
    "tags": []
   },
   "source": [
    "# Preprocessor Code"
   ]
  },
  {
   "cell_type": "code",
   "execution_count": 2,
   "id": "8edc301f-3db1-4cc5-8ca1-29dd79aec44e",
   "metadata": {},
   "outputs": [],
   "source": [
    "class WeightDiscPreprocessor(PolymerPreprocessor):\n",
    "    \"\"\"preprocesses using a Mw and Mn column and binning it. Uses KBinsDiscretizer and accepts encoding and strategy args.\"\"\"\n",
    "\n",
    "    def __init__(\n",
    "        self,\n",
    "        n_bins: int = 20,\n",
    "        encode=\"ordinal\",\n",
    "        strategy=\"quantile\",\n",
    "        **kwargs,\n",
    "    ):\n",
    "        super(PolymerPreprocessor, self).__init__(**kwargs)\n",
    "        self.n_bins = n_bins\n",
    "        \n",
    "        self.train = True\n",
    "        self.training_mn = []\n",
    "        self.training_mw = []\n",
    "        \n",
    "        # Track whether or not to refit\n",
    "        self._new_since_trained = False\n",
    "        self.mn_kbd = KBinsDiscretizer(n_bins=self.n_bins, encode=encode, strategy=strategy)\n",
    "        self.mw_kbd = KBinsDiscretizer(n_bins=self.n_bins, encode=encode, strategy=strategy)\n",
    "\n",
    "    def create_nx_graph(self, row: pd.Series, **kwargs) -> nx.DiGraph:\n",
    "        nx_graph = super().create_nx_graph(row)\n",
    "        nx_graph.graph[\"pm\"] = row.pm\n",
    "        nx_graph.graph[\"mn\"] = row.Mn\n",
    "        nx_graph.graph[\"mw\"] = row.Mw\n",
    "\n",
    "        return nx_graph\n",
    "\n",
    "    def get_graph_features(self, graph_data: dict) -> Dict[str, np.ndarray]:\n",
    "        pm = graph_data[\"pm\"]\n",
    "        mn = graph_data[\"mn\"]\n",
    "        mw = graph_data[\"mw\"]\n",
    " \n",
    "        # Train data\n",
    "        if self.train:\n",
    "            if mn:\n",
    "                self.training_mn.append(mn)\n",
    "            if mw:\n",
    "                self.training_mw.append(mw)\n",
    "                \n",
    "            self._new_since_trained = True\n",
    "            \n",
    "            mn_bin_i = None\n",
    "            mw_bin_i = None\n",
    "                \n",
    "        else:\n",
    "            if self._new_since_trained:\n",
    "                self._new_since_trained = False\n",
    "\n",
    "                # Not sure how to format this best in np, so use pandas\n",
    "                training_mn = np.array(self.training_mn)\n",
    "                training_mn = training_mn[np.isfinite(training_mn)]\n",
    "                df_mn = pd.DataFrame(training_mn)\n",
    "                \n",
    "                training_mw = np.array(self.training_mw)\n",
    "                training_mw = training_mw[np.isfinite(training_mw)]\n",
    "                df_mw = pd.DataFrame(training_mw)\n",
    "                \n",
    "                self.mn_kbd.fit(df_mn)\n",
    "                self.mw_kbd.fit(df_mw)\n",
    "            \n",
    "            mn_bin_i = self._get_bin_number(mn, self.mn_kbd)\n",
    "            mw_bin_i = self._get_bin_number(mw, self.mw_kbd)\n",
    "\n",
    "        return {\"mn_bin\": mn_bin_i, \"mw_bin\": mw_bin_i, \"pm\": pm}\n",
    "\n",
    "    def _get_bin_number(self, val, kbd):\n",
    "        # TODO there has to be a better way of checking a number is a number...\n",
    "        if (\n",
    "            isinstance(val, (int, float, complex))\n",
    "            and not isinstance(val, bool)\n",
    "            and not np.isnan(val)\n",
    "            and np.isfinite(val)\n",
    "        ):\n",
    "            if val > kbd.bin_edges_[-0][-1]:\n",
    "                bin_i = self.n_bins + 2\n",
    "            else:\n",
    "                bin_i = kbd.transform([[val]])[0, 0] + 1\n",
    "        else:\n",
    "            bin_i = 0\n",
    "\n",
    "        return bin_i\n",
    "\n",
    "    @property\n",
    "    def output_signature(self) -> Dict[str, tf.TensorSpec]:\n",
    "        signature = super().output_signature\n",
    "        signature[\"pm\"] = tf.TensorSpec(shape=tf.TensorShape([]), dtype=\"float16\")\n",
    "        signature[\"mw_bin\"] = tf.TensorSpec(shape=tf.TensorShape([]), dtype=\"int64\")\n",
    "        signature[\"mn_bin\"] = tf.TensorSpec(shape=tf.TensorShape([]), dtype=\"int64\")\n",
    "\n",
    "        return signature\n",
    "\n",
    "    @property\n",
    "    def padding_values(self) -> Dict[str, tf.constant]:\n",
    "        padding_values = super().padding_values\n",
    "        padding_values[\"pm\"] = tf.constant(0, dtype=tf.float16)\n",
    "        padding_values[\"mw_bin\"] = tf.constant(0, dtype=tf.int64)\n",
    "        padding_values[\"mn_bin\"] = tf.constant(0, dtype=tf.int64)\n",
    "\n",
    "        return padding_values"
   ]
  },
  {
   "cell_type": "markdown",
   "id": "8420932c-e82f-4d20-9748-b23172019d2c",
   "metadata": {},
   "source": [
    "# Test preprocessor\n",
    "The preprocess have 2 steps:\n",
    "## Training Mode\n",
    "In this mode the preprocessor adds to the list used for the discretizer.\n",
    "\n",
    "## Test Mode\n",
    "In this mode the preprocesser uses the list to generate a discretizer and assign a bin. The discretizer is only generated once."
   ]
  },
  {
   "cell_type": "code",
   "execution_count": 3,
   "id": "31916328-73f9-4843-87be-c64850d549f6",
   "metadata": {},
   "outputs": [
    {
     "ename": "FileNotFoundError",
     "evalue": "[Errno 2] No such file or directory: '/Users/kshebek/Documents/polymers/stereochem/data/polymer_data/polymer/220311_stereo_polymers_DP21_R1.csv'",
     "output_type": "error",
     "traceback": [
      "\u001b[0;31m---------------------------------------------------------------------------\u001b[0m",
      "\u001b[0;31mFileNotFoundError\u001b[0m                         Traceback (most recent call last)",
      "\u001b[0;32m/var/folders/xw/fgrrfbjs5klg6nn94zvq7bzjqjsz31/T/ipykernel_72295/2672071780.py\u001b[0m in \u001b[0;36m<module>\u001b[0;34m\u001b[0m\n\u001b[1;32m      1\u001b[0m \u001b[0mmm\u001b[0m \u001b[0;34m=\u001b[0m \u001b[0mMultiModel\u001b[0m\u001b[0;34m(\u001b[0m\u001b[0;34m)\u001b[0m\u001b[0;34m\u001b[0m\u001b[0;34m\u001b[0m\u001b[0m\n\u001b[0;32m----> 2\u001b[0;31m \u001b[0mmm\u001b[0m\u001b[0;34m.\u001b[0m\u001b[0mload_dataset\u001b[0m\u001b[0;34m(\u001b[0m\u001b[0;34m\"/Users/kshebek/Documents/polymers/stereochem/data/polymer_data/polymer/220311_stereo_polymers_DP21_R1.csv\"\u001b[0m\u001b[0;34m,\u001b[0m \u001b[0mprediction_columns\u001b[0m\u001b[0;34m=\u001b[0m\u001b[0;34m[\u001b[0m\u001b[0;34m\"Tg\"\u001b[0m\u001b[0;34m,\u001b[0m \u001b[0;34m\"Tm\"\u001b[0m\u001b[0;34m]\u001b[0m\u001b[0;34m)\u001b[0m\u001b[0;34m\u001b[0m\u001b[0;34m\u001b[0m\u001b[0m\n\u001b[0m",
      "\u001b[0;32m~/Dropbox/Organizations/NREL/Research_Projects/21-17_AOP_Inverse-Design/gitrepos/polyID/polyid/polyid.py\u001b[0m in \u001b[0;36mload_dataset\u001b[0;34m(self, fname, prediction_columns)\u001b[0m\n\u001b[1;32m    576\u001b[0m         \u001b[0;31m# Read file in as pandas df\u001b[0m\u001b[0;34m\u001b[0m\u001b[0;34m\u001b[0m\u001b[0;34m\u001b[0m\u001b[0m\n\u001b[1;32m    577\u001b[0m         \u001b[0;32mif\u001b[0m \u001b[0mfname\u001b[0m\u001b[0;34m.\u001b[0m\u001b[0msuffix\u001b[0m \u001b[0;34m==\u001b[0m \u001b[0;34m\".csv\"\u001b[0m\u001b[0;34m:\u001b[0m\u001b[0;34m\u001b[0m\u001b[0;34m\u001b[0m\u001b[0m\n\u001b[0;32m--> 578\u001b[0;31m             \u001b[0mdf_load\u001b[0m \u001b[0;34m=\u001b[0m \u001b[0mpd\u001b[0m\u001b[0;34m.\u001b[0m\u001b[0mread_csv\u001b[0m\u001b[0;34m(\u001b[0m\u001b[0mfname\u001b[0m\u001b[0;34m)\u001b[0m\u001b[0;34m\u001b[0m\u001b[0;34m\u001b[0m\u001b[0m\n\u001b[0m\u001b[1;32m    579\u001b[0m         \u001b[0;32melif\u001b[0m \u001b[0mfname\u001b[0m\u001b[0;34m.\u001b[0m\u001b[0msuffix\u001b[0m \u001b[0;34m==\u001b[0m \u001b[0;34m\".xlsx\"\u001b[0m\u001b[0;34m:\u001b[0m\u001b[0;34m\u001b[0m\u001b[0;34m\u001b[0m\u001b[0m\n\u001b[1;32m    580\u001b[0m             \u001b[0mdf_load\u001b[0m \u001b[0;34m=\u001b[0m \u001b[0mpd\u001b[0m\u001b[0;34m.\u001b[0m\u001b[0mread_excel\u001b[0m\u001b[0;34m(\u001b[0m\u001b[0mfname\u001b[0m\u001b[0;34m)\u001b[0m\u001b[0;34m\u001b[0m\u001b[0;34m\u001b[0m\u001b[0m\n",
      "\u001b[0;32m~/miniconda3/envs/polyID/lib/python3.7/site-packages/pandas/util/_decorators.py\u001b[0m in \u001b[0;36mwrapper\u001b[0;34m(*args, **kwargs)\u001b[0m\n\u001b[1;32m    309\u001b[0m                     \u001b[0mstacklevel\u001b[0m\u001b[0;34m=\u001b[0m\u001b[0mstacklevel\u001b[0m\u001b[0;34m,\u001b[0m\u001b[0;34m\u001b[0m\u001b[0;34m\u001b[0m\u001b[0m\n\u001b[1;32m    310\u001b[0m                 )\n\u001b[0;32m--> 311\u001b[0;31m             \u001b[0;32mreturn\u001b[0m \u001b[0mfunc\u001b[0m\u001b[0;34m(\u001b[0m\u001b[0;34m*\u001b[0m\u001b[0margs\u001b[0m\u001b[0;34m,\u001b[0m \u001b[0;34m**\u001b[0m\u001b[0mkwargs\u001b[0m\u001b[0;34m)\u001b[0m\u001b[0;34m\u001b[0m\u001b[0;34m\u001b[0m\u001b[0m\n\u001b[0m\u001b[1;32m    312\u001b[0m \u001b[0;34m\u001b[0m\u001b[0m\n\u001b[1;32m    313\u001b[0m         \u001b[0;32mreturn\u001b[0m \u001b[0mwrapper\u001b[0m\u001b[0;34m\u001b[0m\u001b[0;34m\u001b[0m\u001b[0m\n",
      "\u001b[0;32m~/miniconda3/envs/polyID/lib/python3.7/site-packages/pandas/io/parsers/readers.py\u001b[0m in \u001b[0;36mread_csv\u001b[0;34m(filepath_or_buffer, sep, delimiter, header, names, index_col, usecols, squeeze, prefix, mangle_dupe_cols, dtype, engine, converters, true_values, false_values, skipinitialspace, skiprows, skipfooter, nrows, na_values, keep_default_na, na_filter, verbose, skip_blank_lines, parse_dates, infer_datetime_format, keep_date_col, date_parser, dayfirst, cache_dates, iterator, chunksize, compression, thousands, decimal, lineterminator, quotechar, quoting, doublequote, escapechar, comment, encoding, encoding_errors, dialect, error_bad_lines, warn_bad_lines, on_bad_lines, delim_whitespace, low_memory, memory_map, float_precision, storage_options)\u001b[0m\n\u001b[1;32m    584\u001b[0m     \u001b[0mkwds\u001b[0m\u001b[0;34m.\u001b[0m\u001b[0mupdate\u001b[0m\u001b[0;34m(\u001b[0m\u001b[0mkwds_defaults\u001b[0m\u001b[0;34m)\u001b[0m\u001b[0;34m\u001b[0m\u001b[0;34m\u001b[0m\u001b[0m\n\u001b[1;32m    585\u001b[0m \u001b[0;34m\u001b[0m\u001b[0m\n\u001b[0;32m--> 586\u001b[0;31m     \u001b[0;32mreturn\u001b[0m \u001b[0m_read\u001b[0m\u001b[0;34m(\u001b[0m\u001b[0mfilepath_or_buffer\u001b[0m\u001b[0;34m,\u001b[0m \u001b[0mkwds\u001b[0m\u001b[0;34m)\u001b[0m\u001b[0;34m\u001b[0m\u001b[0;34m\u001b[0m\u001b[0m\n\u001b[0m\u001b[1;32m    587\u001b[0m \u001b[0;34m\u001b[0m\u001b[0m\n\u001b[1;32m    588\u001b[0m \u001b[0;34m\u001b[0m\u001b[0m\n",
      "\u001b[0;32m~/miniconda3/envs/polyID/lib/python3.7/site-packages/pandas/io/parsers/readers.py\u001b[0m in \u001b[0;36m_read\u001b[0;34m(filepath_or_buffer, kwds)\u001b[0m\n\u001b[1;32m    480\u001b[0m \u001b[0;34m\u001b[0m\u001b[0m\n\u001b[1;32m    481\u001b[0m     \u001b[0;31m# Create the parser.\u001b[0m\u001b[0;34m\u001b[0m\u001b[0;34m\u001b[0m\u001b[0;34m\u001b[0m\u001b[0m\n\u001b[0;32m--> 482\u001b[0;31m     \u001b[0mparser\u001b[0m \u001b[0;34m=\u001b[0m \u001b[0mTextFileReader\u001b[0m\u001b[0;34m(\u001b[0m\u001b[0mfilepath_or_buffer\u001b[0m\u001b[0;34m,\u001b[0m \u001b[0;34m**\u001b[0m\u001b[0mkwds\u001b[0m\u001b[0;34m)\u001b[0m\u001b[0;34m\u001b[0m\u001b[0;34m\u001b[0m\u001b[0m\n\u001b[0m\u001b[1;32m    483\u001b[0m \u001b[0;34m\u001b[0m\u001b[0m\n\u001b[1;32m    484\u001b[0m     \u001b[0;32mif\u001b[0m \u001b[0mchunksize\u001b[0m \u001b[0;32mor\u001b[0m \u001b[0miterator\u001b[0m\u001b[0;34m:\u001b[0m\u001b[0;34m\u001b[0m\u001b[0;34m\u001b[0m\u001b[0m\n",
      "\u001b[0;32m~/miniconda3/envs/polyID/lib/python3.7/site-packages/pandas/io/parsers/readers.py\u001b[0m in \u001b[0;36m__init__\u001b[0;34m(self, f, engine, **kwds)\u001b[0m\n\u001b[1;32m    809\u001b[0m             \u001b[0mself\u001b[0m\u001b[0;34m.\u001b[0m\u001b[0moptions\u001b[0m\u001b[0;34m[\u001b[0m\u001b[0;34m\"has_index_names\"\u001b[0m\u001b[0;34m]\u001b[0m \u001b[0;34m=\u001b[0m \u001b[0mkwds\u001b[0m\u001b[0;34m[\u001b[0m\u001b[0;34m\"has_index_names\"\u001b[0m\u001b[0;34m]\u001b[0m\u001b[0;34m\u001b[0m\u001b[0;34m\u001b[0m\u001b[0m\n\u001b[1;32m    810\u001b[0m \u001b[0;34m\u001b[0m\u001b[0m\n\u001b[0;32m--> 811\u001b[0;31m         \u001b[0mself\u001b[0m\u001b[0;34m.\u001b[0m\u001b[0m_engine\u001b[0m \u001b[0;34m=\u001b[0m \u001b[0mself\u001b[0m\u001b[0;34m.\u001b[0m\u001b[0m_make_engine\u001b[0m\u001b[0;34m(\u001b[0m\u001b[0mself\u001b[0m\u001b[0;34m.\u001b[0m\u001b[0mengine\u001b[0m\u001b[0;34m)\u001b[0m\u001b[0;34m\u001b[0m\u001b[0;34m\u001b[0m\u001b[0m\n\u001b[0m\u001b[1;32m    812\u001b[0m \u001b[0;34m\u001b[0m\u001b[0m\n\u001b[1;32m    813\u001b[0m     \u001b[0;32mdef\u001b[0m \u001b[0mclose\u001b[0m\u001b[0;34m(\u001b[0m\u001b[0mself\u001b[0m\u001b[0;34m)\u001b[0m\u001b[0;34m:\u001b[0m\u001b[0;34m\u001b[0m\u001b[0;34m\u001b[0m\u001b[0m\n",
      "\u001b[0;32m~/miniconda3/envs/polyID/lib/python3.7/site-packages/pandas/io/parsers/readers.py\u001b[0m in \u001b[0;36m_make_engine\u001b[0;34m(self, engine)\u001b[0m\n\u001b[1;32m   1038\u001b[0m             )\n\u001b[1;32m   1039\u001b[0m         \u001b[0;31m# error: Too many arguments for \"ParserBase\"\u001b[0m\u001b[0;34m\u001b[0m\u001b[0;34m\u001b[0m\u001b[0;34m\u001b[0m\u001b[0m\n\u001b[0;32m-> 1040\u001b[0;31m         \u001b[0;32mreturn\u001b[0m \u001b[0mmapping\u001b[0m\u001b[0;34m[\u001b[0m\u001b[0mengine\u001b[0m\u001b[0;34m]\u001b[0m\u001b[0;34m(\u001b[0m\u001b[0mself\u001b[0m\u001b[0;34m.\u001b[0m\u001b[0mf\u001b[0m\u001b[0;34m,\u001b[0m \u001b[0;34m**\u001b[0m\u001b[0mself\u001b[0m\u001b[0;34m.\u001b[0m\u001b[0moptions\u001b[0m\u001b[0;34m)\u001b[0m  \u001b[0;31m# type: ignore[call-arg]\u001b[0m\u001b[0;34m\u001b[0m\u001b[0;34m\u001b[0m\u001b[0m\n\u001b[0m\u001b[1;32m   1041\u001b[0m \u001b[0;34m\u001b[0m\u001b[0m\n\u001b[1;32m   1042\u001b[0m     \u001b[0;32mdef\u001b[0m \u001b[0m_failover_to_python\u001b[0m\u001b[0;34m(\u001b[0m\u001b[0mself\u001b[0m\u001b[0;34m)\u001b[0m\u001b[0;34m:\u001b[0m\u001b[0;34m\u001b[0m\u001b[0;34m\u001b[0m\u001b[0m\n",
      "\u001b[0;32m~/miniconda3/envs/polyID/lib/python3.7/site-packages/pandas/io/parsers/c_parser_wrapper.py\u001b[0m in \u001b[0;36m__init__\u001b[0;34m(self, src, **kwds)\u001b[0m\n\u001b[1;32m     49\u001b[0m \u001b[0;34m\u001b[0m\u001b[0m\n\u001b[1;32m     50\u001b[0m         \u001b[0;31m# open handles\u001b[0m\u001b[0;34m\u001b[0m\u001b[0;34m\u001b[0m\u001b[0;34m\u001b[0m\u001b[0m\n\u001b[0;32m---> 51\u001b[0;31m         \u001b[0mself\u001b[0m\u001b[0;34m.\u001b[0m\u001b[0m_open_handles\u001b[0m\u001b[0;34m(\u001b[0m\u001b[0msrc\u001b[0m\u001b[0;34m,\u001b[0m \u001b[0mkwds\u001b[0m\u001b[0;34m)\u001b[0m\u001b[0;34m\u001b[0m\u001b[0;34m\u001b[0m\u001b[0m\n\u001b[0m\u001b[1;32m     52\u001b[0m         \u001b[0;32massert\u001b[0m \u001b[0mself\u001b[0m\u001b[0;34m.\u001b[0m\u001b[0mhandles\u001b[0m \u001b[0;32mis\u001b[0m \u001b[0;32mnot\u001b[0m \u001b[0;32mNone\u001b[0m\u001b[0;34m\u001b[0m\u001b[0;34m\u001b[0m\u001b[0m\n\u001b[1;32m     53\u001b[0m \u001b[0;34m\u001b[0m\u001b[0m\n",
      "\u001b[0;32m~/miniconda3/envs/polyID/lib/python3.7/site-packages/pandas/io/parsers/base_parser.py\u001b[0m in \u001b[0;36m_open_handles\u001b[0;34m(self, src, kwds)\u001b[0m\n\u001b[1;32m    227\u001b[0m             \u001b[0mmemory_map\u001b[0m\u001b[0;34m=\u001b[0m\u001b[0mkwds\u001b[0m\u001b[0;34m.\u001b[0m\u001b[0mget\u001b[0m\u001b[0;34m(\u001b[0m\u001b[0;34m\"memory_map\"\u001b[0m\u001b[0;34m,\u001b[0m \u001b[0;32mFalse\u001b[0m\u001b[0;34m)\u001b[0m\u001b[0;34m,\u001b[0m\u001b[0;34m\u001b[0m\u001b[0;34m\u001b[0m\u001b[0m\n\u001b[1;32m    228\u001b[0m             \u001b[0mstorage_options\u001b[0m\u001b[0;34m=\u001b[0m\u001b[0mkwds\u001b[0m\u001b[0;34m.\u001b[0m\u001b[0mget\u001b[0m\u001b[0;34m(\u001b[0m\u001b[0;34m\"storage_options\"\u001b[0m\u001b[0;34m,\u001b[0m \u001b[0;32mNone\u001b[0m\u001b[0;34m)\u001b[0m\u001b[0;34m,\u001b[0m\u001b[0;34m\u001b[0m\u001b[0;34m\u001b[0m\u001b[0m\n\u001b[0;32m--> 229\u001b[0;31m             \u001b[0merrors\u001b[0m\u001b[0;34m=\u001b[0m\u001b[0mkwds\u001b[0m\u001b[0;34m.\u001b[0m\u001b[0mget\u001b[0m\u001b[0;34m(\u001b[0m\u001b[0;34m\"encoding_errors\"\u001b[0m\u001b[0;34m,\u001b[0m \u001b[0;34m\"strict\"\u001b[0m\u001b[0;34m)\u001b[0m\u001b[0;34m,\u001b[0m\u001b[0;34m\u001b[0m\u001b[0;34m\u001b[0m\u001b[0m\n\u001b[0m\u001b[1;32m    230\u001b[0m         )\n\u001b[1;32m    231\u001b[0m \u001b[0;34m\u001b[0m\u001b[0m\n",
      "\u001b[0;32m~/miniconda3/envs/polyID/lib/python3.7/site-packages/pandas/io/common.py\u001b[0m in \u001b[0;36mget_handle\u001b[0;34m(path_or_buf, mode, encoding, compression, memory_map, is_text, errors, storage_options)\u001b[0m\n\u001b[1;32m    705\u001b[0m                 \u001b[0mencoding\u001b[0m\u001b[0;34m=\u001b[0m\u001b[0mioargs\u001b[0m\u001b[0;34m.\u001b[0m\u001b[0mencoding\u001b[0m\u001b[0;34m,\u001b[0m\u001b[0;34m\u001b[0m\u001b[0;34m\u001b[0m\u001b[0m\n\u001b[1;32m    706\u001b[0m                 \u001b[0merrors\u001b[0m\u001b[0;34m=\u001b[0m\u001b[0merrors\u001b[0m\u001b[0;34m,\u001b[0m\u001b[0;34m\u001b[0m\u001b[0;34m\u001b[0m\u001b[0m\n\u001b[0;32m--> 707\u001b[0;31m                 \u001b[0mnewline\u001b[0m\u001b[0;34m=\u001b[0m\u001b[0;34m\"\"\u001b[0m\u001b[0;34m,\u001b[0m\u001b[0;34m\u001b[0m\u001b[0;34m\u001b[0m\u001b[0m\n\u001b[0m\u001b[1;32m    708\u001b[0m             )\n\u001b[1;32m    709\u001b[0m         \u001b[0;32melse\u001b[0m\u001b[0;34m:\u001b[0m\u001b[0;34m\u001b[0m\u001b[0;34m\u001b[0m\u001b[0m\n",
      "\u001b[0;31mFileNotFoundError\u001b[0m: [Errno 2] No such file or directory: '/Users/kshebek/Documents/polymers/stereochem/data/polymer_data/polymer/220311_stereo_polymers_DP21_R1.csv'"
     ]
    }
   ],
   "source": [
    "mm = MultiModel()\n",
    "mm.load_dataset(\"/Users/kshebek/Documents/polymers/stereochem/data/polymer_data/polymer/220311_stereo_polymers_DP21_R1.csv\", prediction_columns=[\"Tg\", \"Tm\"])"
   ]
  },
  {
   "cell_type": "markdown",
   "id": "18e18d72-4eff-4ab1-86a7-70eb2b9b2dca",
   "metadata": {},
   "source": [
    "## Train Preprocessor Analysis Quantiles"
   ]
  },
  {
   "cell_type": "code",
   "execution_count": 140,
   "id": "dc669564-64a4-4650-8665-eaa0e5d24563",
   "metadata": {},
   "outputs": [],
   "source": [
    "binp = WeightBinPreprocessor(n_bins=5)\n",
    "\n",
    "for i, row in mm.df_input.iterrows():\n",
    "    binp(row, train=True)"
   ]
  },
  {
   "cell_type": "markdown",
   "id": "52bd4dca-d217-4c6c-815b-ee61df2bf2f1",
   "metadata": {},
   "source": [
    "### Quantile Results"
   ]
  },
  {
   "cell_type": "code",
   "execution_count": 128,
   "id": "a1bca5d4-e85d-4f83-a44e-1dda7922a484",
   "metadata": {},
   "outputs": [],
   "source": [
    "df = pd.DataFrame()\n",
    "binp.train = False\n",
    "for i, row in mm.df_input.iterrows():\n",
    "    d = binp(row)\n",
    "    df_temp = pd.DataFrame([{\"mn_bin\": d[\"mn_bin\"], \"mw_bin\": d[\"mw_bin\"], \"mn\": row.Mn, \"mw\": row.Mw}], columns=[\"mn_bin\", \"mw_bin\", \"mn\", \"mw\"])\n",
    "    df = pd.concat([df, df_temp])"
   ]
  },
  {
   "cell_type": "code",
   "execution_count": 137,
   "id": "ba029a5a-de20-446e-aadf-0164643e43b9",
   "metadata": {},
   "outputs": [
    {
     "data": {
      "text/plain": [
       "<AxesSubplot:xlabel='mw_bin', ylabel='count'>"
      ]
     },
     "execution_count": 137,
     "metadata": {},
     "output_type": "execute_result"
    },
    {
     "data": {
      "image/png": "[encoded data removed]",
      "text/plain": [
       "<Figure size 720x360 with 2 Axes>"
      ]
     },
     "metadata": {
      "needs_background": "light"
     },
     "output_type": "display_data"
    }
   ],
   "source": [
    "import seaborn as sns\n",
    "import matplotlib.pyplot as plt\n",
    "\n",
    "fig, axs = plt.subplots(1, 2, figsize=(10, 5))\n",
    "\n",
    "sns.countplot(x=\"mn_bin\", data=df, ax=axs[0])\n",
    "sns.countplot(x=\"mw_bin\", data=df, ax=axs[1])"
   ]
  },
  {
   "cell_type": "markdown",
   "id": "a90c97be-9319-4938-9c1a-24c628fc33d7",
   "metadata": {},
   "source": [
    "## Train Preprocessor Analysis Uniform (Bad!)\n",
    "The uniform is problematic, as it's not scaled and most things will be in low bins. Data would need to be spread out more evenly on the X axis. As a result more bins have to be used."
   ]
  },
  {
   "cell_type": "code",
   "execution_count": 151,
   "id": "1d7c9a34-ee56-48b8-8eff-1083f79ae09a",
   "metadata": {},
   "outputs": [],
   "source": [
    "binp = WeightBinPreprocessor(n_bins=100, strategy=\"uniform\")\n",
    "\n",
    "for i, row in mm.df_input.iterrows():\n",
    "    binp(row, train=True)"
   ]
  },
  {
   "cell_type": "markdown",
   "id": "ee6a0339-960b-47ac-bc5c-d380c055424e",
   "metadata": {},
   "source": [
    "### Quantile Results"
   ]
  },
  {
   "cell_type": "code",
   "execution_count": 153,
   "id": "f04e0202-a94f-4da1-99dd-264726a5ecca",
   "metadata": {},
   "outputs": [],
   "source": [
    "df = pd.DataFrame()\n",
    "binp.train = False\n",
    "for i, row in mm.df_input.iterrows():\n",
    "    d = binp(row)\n",
    "    df_temp = pd.DataFrame([{\"mn_bin\": d[\"mn_bin\"], \"mw_bin\": d[\"mw_bin\"], \"mn\": row.Mn, \"mw\": row.Mw}], columns=[\"mn_bin\", \"mw_bin\", \"mn\", \"mw\"])\n",
    "    df = pd.concat([df, df_temp])"
   ]
  },
  {
   "cell_type": "code",
   "execution_count": 154,
   "id": "56df4c3b-5e6d-43af-b63e-f023c580ad7a",
   "metadata": {},
   "outputs": [
    {
     "data": {
      "text/plain": [
       "<AxesSubplot:xlabel='mw_bin', ylabel='count'>"
      ]
     },
     "execution_count": 154,
     "metadata": {},
     "output_type": "execute_result"
    },
    {
     "data": {
      "image/png": "[encoded data removed]",
      "text/plain": [
       "<Figure size 720x360 with 2 Axes>"
      ]
     },
     "metadata": {
      "needs_background": "light"
     },
     "output_type": "display_data"
    }
   ],
   "source": [
    "import seaborn as sns\n",
    "import matplotlib.pyplot as plt\n",
    "\n",
    "fig, axs = plt.subplots(1, 2, figsize=(10, 5))\n",
    "\n",
    "sns.countplot(x=\"mn_bin\", data=df, ax=axs[0])\n",
    "sns.countplot(x=\"mw_bin\", data=df, ax=axs[1])"
   ]
  },
  {
   "cell_type": "code",
   "execution_count": 150,
   "id": "fd7e38b5-ee3e-4160-8812-8013f1a1d05c",
   "metadata": {},
   "outputs": [
    {
     "data": {
      "text/plain": [
       "array([array([2.21000000e+03, 4.32679950e+06, 8.65138900e+06, 1.29759785e+07,\n",
       "              1.73005680e+07, 2.16251575e+07, 2.59497470e+07, 3.02743365e+07,\n",
       "              3.45989260e+07, 3.89235155e+07, 4.32481050e+07, 4.75726945e+07,\n",
       "              5.18972840e+07, 5.62218735e+07, 6.05464630e+07, 6.48710525e+07,\n",
       "              6.91956420e+07, 7.35202315e+07, 7.78448210e+07, 8.21694105e+07,\n",
       "              8.64940000e+07])                                               ],\n",
       "      dtype=object)"
      ]
     },
     "execution_count": 150,
     "metadata": {},
     "output_type": "execute_result"
    }
   ],
   "source": [
    "binp.mw_kbd.bin_edges_"
   ]
  },
  {
   "cell_type": "markdown",
   "id": "570e34de-53d1-4c57-8868-1451e6cad4a7",
   "metadata": {},
   "source": [
    "## Train Preprocessor Analysis Kmeans\n",
    "This spreads out the x axis more in a normal distribution."
   ]
  },
  {
   "cell_type": "code",
   "execution_count": 155,
   "id": "0da6a690-f9ad-4c0a-aa0e-0e7afc992793",
   "metadata": {},
   "outputs": [],
   "source": [
    "binp = WeightBinPreprocessor(n_bins=20, strategy=\"kmeans\")\n",
    "\n",
    "for i, row in mm.df_input.iterrows():\n",
    "    binp(row, train=True)"
   ]
  },
  {
   "cell_type": "markdown",
   "id": "76931917-fa27-4bdd-8ccf-3ebfe347e23f",
   "metadata": {},
   "source": [
    "### Quantile Results"
   ]
  },
  {
   "cell_type": "code",
   "execution_count": 156,
   "id": "eac1bd0e-839a-4286-a7f1-f5d348326aeb",
   "metadata": {},
   "outputs": [],
   "source": [
    "df = pd.DataFrame()\n",
    "binp.train = False\n",
    "for i, row in mm.df_input.iterrows():\n",
    "    d = binp(row)\n",
    "    df_temp = pd.DataFrame([{\"mn_bin\": d[\"mn_bin\"], \"mw_bin\": d[\"mw_bin\"], \"mn\": row.Mn, \"mw\": row.Mw}], columns=[\"mn_bin\", \"mw_bin\", \"mn\", \"mw\"])\n",
    "    df = pd.concat([df, df_temp])"
   ]
  },
  {
   "cell_type": "code",
   "execution_count": 157,
   "id": "ba743f4d-2ac3-4700-9d24-eb18e4f8b661",
   "metadata": {},
   "outputs": [
    {
     "data": {
      "text/plain": [
       "<AxesSubplot:xlabel='mw_bin', ylabel='count'>"
      ]
     },
     "execution_count": 157,
     "metadata": {},
     "output_type": "execute_result"
    },
    {
     "data": {
      "image/png": "[encoded data removed]",
      "text/plain": [
       "<Figure size 720x360 with 2 Axes>"
      ]
     },
     "metadata": {
      "needs_background": "light"
     },
     "output_type": "display_data"
    }
   ],
   "source": [
    "import seaborn as sns\n",
    "import matplotlib.pyplot as plt\n",
    "\n",
    "fig, axs = plt.subplots(1, 2, figsize=(10, 5))\n",
    "\n",
    "sns.countplot(x=\"mn_bin\", data=df, ax=axs[0])\n",
    "sns.countplot(x=\"mw_bin\", data=df, ax=axs[1])"
   ]
  },
  {
   "cell_type": "code",
   "execution_count": 150,
   "id": "597cb749-5b2a-4118-9454-34c99df0be9b",
   "metadata": {},
   "outputs": [
    {
     "data": {
      "text/plain": [
       "array([array([2.21000000e+03, 4.32679950e+06, 8.65138900e+06, 1.29759785e+07,\n",
       "              1.73005680e+07, 2.16251575e+07, 2.59497470e+07, 3.02743365e+07,\n",
       "              3.45989260e+07, 3.89235155e+07, 4.32481050e+07, 4.75726945e+07,\n",
       "              5.18972840e+07, 5.62218735e+07, 6.05464630e+07, 6.48710525e+07,\n",
       "              6.91956420e+07, 7.35202315e+07, 7.78448210e+07, 8.21694105e+07,\n",
       "              8.64940000e+07])                                               ],\n",
       "      dtype=object)"
      ]
     },
     "execution_count": 150,
     "metadata": {},
     "output_type": "execute_result"
    }
   ],
   "source": [
    "binp.mw_kbd.bin_edges_"
   ]
  }
 ],
 "metadata": {
  "kernelspec": {
   "display_name": "Python 3.7.12 ('polyID')",
   "language": "python",
   "name": "python3"
  },
  "language_info": {
   "codemirror_mode": {
    "name": "ipython",
    "version": 3
   },
   "file_extension": ".py",
   "mimetype": "text/x-python",
   "name": "python",
   "nbconvert_exporter": "python",
   "pygments_lexer": "ipython3",
   "version": "3.7.12"
  },
  "vscode": {
   "interpreter": {
    "hash": "b479e74d0a1a0222305f58eaed2f757cf21fa5e4690689fbf117b068e599aac1"
   }
  }
 },
 "nbformat": 4,
 "nbformat_minor": 5
}
