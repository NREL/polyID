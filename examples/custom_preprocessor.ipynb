{
 "cells": [
  {
   "cell_type": "markdown",
   "metadata": {},
   "source": [
    "# Generating Custom Preprocessors\n",
    "[The nfp package](https://github.com/NREL/nfp/blob/master/nfp/preprocessing/mol_preprocessor.py) implements a flexible approach to creating custom preprocessors through the utilization of abstract base classes.\n",
    "\n",
    "## Generating a Preprocessor utilizes Pm values\n",
    "For a dataframe with pm information, it is possible to add this value to the proprocessor as a molecule-wide property. Below is code that uses the [SmilesPreprocessor](https://github.com/NREL/nfp/blob/master/nfp/preprocessing/mol_preprocessor.py#L105) class from nfp to implement this."
   ]
  },
  {
   "cell_type": "code",
   "execution_count": 6,
   "metadata": {},
   "outputs": [],
   "source": [
    "from nfp.preprocessing import SmilesPreprocessor\n",
    "from typing import Dict\n",
    "from polyid import Parameters, MultiModel\n",
    "import networkx as nx\n",
    "import tensorflow as tf\n",
    "import numpy as np\n",
    "import nfp\n",
    "import pandas as pd\n",
    "\n",
    "from nfp.models.losses import masked_mean_absolute_error\n",
    "\n",
    "from keras import layers"
   ]
  },
  {
   "cell_type": "code",
   "execution_count": 7,
   "metadata": {},
   "outputs": [],
   "source": [
    "class PmPreprocessor(SmilesPreprocessor):\n",
    "    # Initialize the PmPreprocessor class attributes and pass any keword args to the inherited classes\n",
    "\n",
    "    # This function creates a graph that is used to generate the features for a molecule\n",
    "    # A graph property of \"pm\" is set to capture stereochemistry.\n",
    "    def create_nx_graph(self, row: pd.Series, **kwargs) -> nx.DiGraph:\n",
    "        nx_graph = super().create_nx_graph(row.smiles_polymer)\n",
    "        nx_graph.graph[\"pm\"] = row.pm\n",
    "        return nx_graph\n",
    "\n",
    "    # This function is used to output graph properties into the preprocessor output\n",
    "    def get_graph_features(self, graph_data: dict) -> Dict[str, np.ndarray]:\n",
    "        return {\"pm\": graph_data[\"pm\"]}\n",
    "\n",
    "    # This function returns an output signature needed for tensor flow\n",
    "    # Essentially add any inputs of your model (in this case pm) with the correct shape and dtype\n",
    "    @property\n",
    "    def output_signature(self) -> Dict[str, tf.TensorSpec]:\n",
    "        signature = super().output_signature\n",
    "        signature[\"pm\"] = tf.TensorSpec(shape=tf.TensorShape([]), dtype=\"float32\")\n",
    "        return signature\n",
    "\n",
    "    # similar to output_signature, add inputs of the model (pm here) with the values to pad by\n",
    "    @property\n",
    "    def padding_values(self) -> Dict[str, tf.constant]:\n",
    "        padding_values = super().padding_values\n",
    "        padding_values[\"pm\"] = tf.constant(0, dtype=tf.float16)\n",
    "        return padding_values\n",
    "\n",
    "# Define how to featurize the input molecules\n",
    "def atom_featurizer(atom):\n",
    "    \"\"\" Return an string representing the atom type\n",
    "    \"\"\"\n",
    "\n",
    "    return str((\n",
    "        atom.GetSymbol(),\n",
    "        atom.GetIsAromatic(),\n",
    "        nfp.get_ring_size(atom, max_size=6),\n",
    "        atom.GetDegree(),\n",
    "        atom.GetTotalNumHs(includeNeighbors=True)\n",
    "    ))\n",
    "\n",
    "\n",
    "def bond_featurizer(bond, flipped=False):\n",
    "    \"\"\" Get a similar classification of the bond type.\n",
    "    Flipped indicates which 'direction' the bond edge is pointing. \"\"\"\n",
    "    \n",
    "    if not flipped:\n",
    "        atoms = \"{}-{}\".format(\n",
    "            *tuple((bond.GetBeginAtom().GetSymbol(),\n",
    "                    bond.GetEndAtom().GetSymbol())))\n",
    "    else:\n",
    "        atoms = \"{}-{}\".format(\n",
    "            *tuple((bond.GetEndAtom().GetSymbol(),\n",
    "                    bond.GetBeginAtom().GetSymbol())))\n",
    "    \n",
    "    btype = str(bond.GetBondType())\n",
    "    ring = 'R{}'.format(nfp.get_ring_size(bond, max_size=6)) if bond.IsInRing() else ''\n",
    "    \n",
    "    return \" \".join([atoms, btype, ring]).strip()"
   ]
  },
  {
   "cell_type": "markdown",
   "metadata": {},
   "source": [
    "# Define Model that Accepts Pm\n"
   ]
  },
  {
   "cell_type": "code",
   "execution_count": 9,
   "metadata": {},
   "outputs": [],
   "source": [
    "def pm_model(preprocessor, model_summary, prediction_columns, params):\n",
    "    # Define the keras model\n",
    "    # Input layers\n",
    "    atom = layers.Input(shape=[None], dtype=tf.int64, name=\"atom\")\n",
    "    bond = layers.Input(shape=[None], dtype=tf.int64, name=\"bond\")\n",
    "    connectivity = layers.Input(shape=[None, 2], dtype=tf.int64, name=\"connectivity\")\n",
    "    global_features = layers.Input(shape=[None], dtype=tf.float32, name=\"pm\")\n",
    "\n",
    "    num_features = params[\"num_features\"]  # Controls the size of the model\n",
    "\n",
    "    # Convert from a single integer defining the atom state to a vector\n",
    "    # of weights associated with that class\n",
    "    atom_state = layers.Embedding(\n",
    "        preprocessor.atom_classes, num_features, name=\"atom_embedding\", mask_zero=True\n",
    "    )(atom)\n",
    "\n",
    "    # Ditto with the bond state\n",
    "    bond_state = layers.Embedding(\n",
    "        preprocessor.bond_classes, num_features, name=\"bond_embedding\", mask_zero=True\n",
    "    )(bond)\n",
    "\n",
    "    # Reshape the pm input\n",
    "    global_features_state = layers.Reshape((1,))(global_features)\n",
    "\n",
    "    global_features_state = layers.Dense(\n",
    "        units=params[\"mol_features\"], name=\"global_features_state\"\n",
    "    )(global_features_state)\n",
    "\n",
    "    # Here we use our first nfp layer. This is an attention layer that looks at\n",
    "    # the atom and bond states and reduces them to a single, graph-level vector.\n",
    "    # mum_heads * units has to be the same dimension as the atom / bond dimension\n",
    "    global_state = nfp.GlobalUpdate(units=params[\"mol_features\"], num_heads=1)(\n",
    "        [atom_state, bond_state, connectivity, global_features_state]\n",
    "    )\n",
    "    global_state = layers.Add()([global_state, global_features_state])\n",
    "\n",
    "    for _ in range(params[\"num_messages\"]):  # Do the message passing\n",
    "        new_bond_state = nfp.EdgeUpdate()(\n",
    "            [atom_state, bond_state, connectivity, global_state]\n",
    "        )\n",
    "        bond_state = layers.Add()([bond_state, new_bond_state])\n",
    "\n",
    "        new_atom_state = nfp.NodeUpdate()(\n",
    "            [atom_state, bond_state, connectivity, global_state]\n",
    "        )\n",
    "        atom_state = layers.Add()([atom_state, new_atom_state])\n",
    "\n",
    "        new_global_state = nfp.GlobalUpdate(units=params[\"mol_features\"], num_heads=1)(\n",
    "            [atom_state, bond_state, connectivity, global_state]\n",
    "        )\n",
    "        global_state = layers.Add()([global_state, new_global_state])\n",
    "\n",
    "    # Get prediction layers to concat together\n",
    "    prediction_layers = []\n",
    "    for col in prediction_columns:\n",
    "        # From polyID predicting with bond_states\n",
    "        prediction_layer = layers.Dense(1, name=f\"{col}_dense\")(bond_state)\n",
    "        prediction_layer = layers.GlobalAveragePooling1D(name=col)(prediction_layer)\n",
    "        prediction_layers.append(prediction_layer)\n",
    "\n",
    "    output = layers.Concatenate(name=\"predictions\")(prediction_layers)\n",
    "\n",
    "    model = tf.keras.Model([atom, bond, connectivity, global_features], output)\n",
    "\n",
    "    model.compile(\n",
    "        optimizer=tf.keras.optimizers.Adam(\n",
    "            learning_rate=params[\"learning_rate\"], decay=params[\"decay\"]\n",
    "        ),\n",
    "        loss=[masked_mean_absolute_error],\n",
    "    )\n",
    "\n",
    "    if model_summary:\n",
    "        print(model.summary())\n",
    "\n",
    "    return model\n"
   ]
  },
  {
   "cell_type": "markdown",
   "metadata": {},
   "source": [
    "# Train Model using Pm"
   ]
  },
  {
   "cell_type": "code",
   "execution_count": 10,
   "metadata": {},
   "outputs": [
    {
     "name": "stdout",
     "output_type": "stream",
     "text": [
      "Epoch 1/2\n",
      "114/114 [==============================] - 20s 49ms/step - loss: 0.8367 - val_loss: 0.5663\n",
      "Epoch 2/2\n",
      "114/114 [==============================] - 2s 17ms/step - loss: 0.6903 - val_loss: 0.5883\n",
      "Epoch 1/2\n",
      "115/115 [==============================] - 20s 49ms/step - loss: 0.6713 - val_loss: 0.6780\n",
      "Epoch 2/2\n",
      "115/115 [==============================] - 2s 18ms/step - loss: 0.6015 - val_loss: 0.6795\n"
     ]
    }
   ],
   "source": [
    "# Generate model parameters\n",
    "# Paremeters has default values that can be changed\n",
    "params = Parameters()\n",
    "params.epochs = 2\n",
    "\n",
    "# Create the MultiModel class that manages multiple SingleModels\n",
    "mm = MultiModel()\n",
    "\n",
    "# First load data in, specifying prediction columns as well\n",
    "mm.load_dataset('../data/polymer_input.csv', prediction_columns=[\"Tg\", \"Tm\"])\n",
    "\n",
    "# Split the data up into kfolds and generate the model classes\n",
    "mm.split_data(kfolds=2)\n",
    "\n",
    "# # Scale the data. This scales using the entire data set and then scales each individual model with that scaler\n",
    "mm.generate_data_scaler()\n",
    "\n",
    "# # Generate the preprocessors for each model\n",
    "# Here we use a preprocessor that uses just smiles\n",
    "mm.generate_preprocessors(preprocessor=PmPreprocessor, atom_features=atom_featurizer, bond_features=bond_featurizer)\n",
    "\n",
    "# # Train the models\n",
    "mm.train_models(modelbuilder=pm_model, model_params=params.to_dict())"
   ]
  },
  {
   "cell_type": "markdown",
   "metadata": {},
   "source": [
    "# Look at predictions to see they vary with Pm\n",
    "Without pm added there will be overlap with polymer structures due to the resolution that can be achieved of pm for a given degree of polymerization, resulting in columns of values. pm values allow for this to be countered.\n",
    "\n",
    "The results below are not a good fit, it is just illustrative of the model."
   ]
  },
  {
   "cell_type": "code",
   "execution_count": 11,
   "metadata": {},
   "outputs": [
    {
     "data": {
      "text/plain": [
       "<AxesSubplot:xlabel='pm', ylabel='Tg_pred'>"
      ]
     },
     "execution_count": 11,
     "metadata": {},
     "output_type": "execute_result"
    },
    {
     "data": {
      "image/png": "[encoded data removed]",
      "text/plain": [
       "<Figure size 432x288 with 1 Axes>"
      ]
     },
     "metadata": {
      "needs_background": "light"
     },
     "output_type": "display_data"
    }
   ],
   "source": [
    "import seaborn as sns\n",
    "\n",
    "# prediction_df = mm.models[0].train_df\n",
    "prediction_df = mm.make_predictions(mm.df_polymer)\n",
    "\n",
    "sns.scatterplot(data=prediction_df[prediction_df[\"polymer_name\"] == \"poly(lactic acid)\"], x=\"pm\", y=\"Tg_pred\", hue=\"model_id\", legend=True)"
   ]
  }
 ],
 "metadata": {
  "kernelspec": {
   "display_name": "Python 3.9.9 64-bit",
   "language": "python",
   "name": "python3"
  },
  "language_info": {
   "codemirror_mode": {
    "name": "ipython",
    "version": 3
   },
   "file_extension": ".py",
   "mimetype": "text/x-python",
   "name": "python",
   "nbconvert_exporter": "python",
   "pygments_lexer": "ipython3",
   "version": "3.9.9"
  },
  "orig_nbformat": 4,
  "vscode": {
   "interpreter": {
    "hash": "aee8b7b246df8f9039afb4144a1f6fd8d2ca17a180786b69acc140d282b71a49"
   }
  }
 },
 "nbformat": 4,
 "nbformat_minor": 2
}
