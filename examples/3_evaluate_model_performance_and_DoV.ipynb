{
 "cells": [
  {
   "cell_type": "markdown",
   "metadata": {},
   "source": [
    "This notebook evaluates the performance of the previously trained message passing neural network on a previously created test set."
   ]
  },
  {
   "cell_type": "code",
   "execution_count": null,
   "metadata": {},
   "outputs": [],
   "source": [
    "from polyid import MultiModel, SingleModel\n",
    "from model_utils import evaluate_error\n",
    "\n",
    "import pandas as pd\n",
    "\n",
    "from nfp.models import masked_mean_absolute_error\n",
    "from nfp import GlobalUpdate, EdgeUpdate, NodeUpdate\n",
    "from nfp.preprocessing.features import atom_features_v1, bond_features_v1"
   ]
  },
  {
   "cell_type": "code",
   "execution_count": null,
   "metadata": {},
   "outputs": [],
   "source": [
    "# load data\n",
    "dftrain = pd.read_csv(\"../data/dftrain.csv\",index_col=0)\n",
    "dftest = pd.read_csv(\"../data/dftest.csv\",index_col=0)\n",
    "\n",
    "# load models\n",
    "mm = MultiModel.load_models(\"save_examples\")\n",
    "\n",
    "# make predictions across k-folds number of models and aggregate across the models\n",
    "dftest_pred = mm.make_aggregate_predictions(dftest)\n",
    "dftest_pred.columns = [s.rstrip('_') for s in dftest_pred.keys()]\n",
    "\n",
    "# Evaluate Results\n",
    "dferror = dftest_pred.copy()\n",
    "dferror = evaluate_error(dferror)\n",
    "dferror.groupby('variable').abserr.describe().round(3)"
   ]
  }
 ],
 "metadata": {
  "kernelspec": {
   "display_name": "Python 3.7.12 ('polyID')",
   "language": "python",
   "name": "python3"
  },
  "language_info": {
   "codemirror_mode": {
    "name": "ipython",
    "version": 3
   },
   "file_extension": ".py",
   "mimetype": "text/x-python",
   "name": "python",
   "nbconvert_exporter": "python",
   "pygments_lexer": "ipython3",
   "version": "3.7.12"
  },
  "orig_nbformat": 4,
  "vscode": {
   "interpreter": {
    "hash": "267d97aa68998e1388018e331430e49a3b8c6b7c8ff96a5c0d89ba2bb72ea730"
   }
  }
 },
 "nbformat": 4,
 "nbformat_minor": 2
}
