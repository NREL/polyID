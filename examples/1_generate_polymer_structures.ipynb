{
 "cells": [
  {
   "cell_type": "markdown",
   "metadata": {},
   "source": [
    "This notebook creates polymer structures from a database of polymer properities and splits the data into a training/validation and test sets."
   ]
  },
  {
   "cell_type": "code",
   "execution_count": 1,
   "metadata": {},
   "outputs": [
    {
     "name": "stderr",
     "output_type": "stream",
     "text": [
      "2023-08-12 16:01:38.835572: I tensorflow/core/platform/cpu_feature_guard.cc:193] This TensorFlow binary is optimized with oneAPI Deep Neural Network Library (oneDNN) to use the following CPU instructions in performance-critical operations:  AVX2 AVX_VNNI FMA\n",
      "To enable them in other operations, rebuild TensorFlow with the appropriate compiler flags.\n",
      "2023-08-12 16:01:39.183539: W tensorflow/compiler/xla/stream_executor/platform/default/dso_loader.cc:64] Could not load dynamic library 'libnvinfer.so.7'; dlerror: libnvinfer.so.7: cannot open shared object file: No such file or directory; LD_LIBRARY_PATH: /usr/local/cuda-11.2/lib64::/home/wilsoa6/miniconda3/envs/stonks/lib/\n",
      "2023-08-12 16:01:39.183627: W tensorflow/compiler/xla/stream_executor/platform/default/dso_loader.cc:64] Could not load dynamic library 'libnvinfer_plugin.so.7'; dlerror: libnvinfer_plugin.so.7: cannot open shared object file: No such file or directory; LD_LIBRARY_PATH: /usr/local/cuda-11.2/lib64::/home/wilsoa6/miniconda3/envs/stonks/lib/\n",
      "2023-08-12 16:01:39.183632: W tensorflow/compiler/tf2tensorrt/utils/py_utils.cc:38] TF-TRT Warning: Cannot dlopen some TensorRT libraries. If you would like to use Nvidia GPU with TensorRT, please make sure the missing libraries mentioned above are installed properly.\n"
     ]
    }
   ],
   "source": [
    "import pandas as pd\n",
    "import numpy as np\n",
    "from m2p import PolyMaker\n",
    "\n",
    "from sklearn.model_selection import train_test_split\n",
    "from polyid import generate_hash\n",
    "from polyid_utils import Utils\n",
    "\n",
    "pm = PolyMaker()\n",
    "DP = 18 # set to 8 for demonstration, optimal value found to be 18 or greater"
   ]
  },
  {
   "cell_type": "code",
   "execution_count": 2,
   "metadata": {},
   "outputs": [
    {
     "name": "stderr",
     "output_type": "stream",
     "text": [
      "100%|██████████| 994/994 [08:30<00:00,  1.95it/s]\n"
     ]
    }
   ],
   "source": [
    "# read in data\n",
    "data = pd.read_csv('../data/SI_Table-of-polymer-properties.csv',index_col=0)\n",
    "\n",
    "# generate monomers tuple\n",
    "data['monomers'] = data.smiles_monomer.apply(lambda smi: pm.get_monomers(smi,stereochemistry=False))\n",
    "\n",
    "# pivot and aggregrate data into train/val/test format\n",
    "data = data.pivot_table(index=['smiles_monomer','monomers','mechanism'],\n",
    "           columns='property',\n",
    "           values='value',\n",
    "           aggfunc=np.mean,\n",
    "           ).reset_index()\n",
    "\n",
    "# get log of permeability columns\n",
    "cols_log = data.keys()[data.keys().str.contains('Permeability')].to_list()\n",
    "data[cols_log] = data[cols_log].apply(np.log10)\n",
    "data = data.rename({col:'log10_'+col for col in cols_log},axis=1)\n",
    "\n",
    "# generate polymer structures with DP=18 and 1 replicate stucture\n",
    "data = pm.thermoplastic(data, DP=DP,mechanism='all',replicate_structures=1)\n",
    "\n",
    "# remove any polymers which may have resulted in an error during reaction\n",
    "dferror = data[data.smiles_polymer.str.contains('ERR')]\n",
    "data = data[~data.smiles_polymer.str.contains('ERR')]\n",
    "\n",
    "# hash columns for tracking predictions and structures\n",
    "data = generate_hash(data,hash_cols=['monomers','replicate_structure'])\n",
    "data = generate_hash(data.reset_index(),hash_cols=['monomers'])\n",
    "\n",
    "# split out train and test with stratification across mechanism (polymer type)s\n",
    "dftrain, dftest = train_test_split(data,\n",
    "                            test_size=0.2,\n",
    "                            stratify=data['mechanism'],\n",
    "                            random_state=0)\n",
    "\n",
    "# verify no polymers had error from polymerization\n",
    "assert dftrain[dftrain.smiles_polymer.str.contains('ERR')].shape[0]==0\n",
    "assert dftest[dftest.smiles_polymer.str.contains('ERR')].shape[0]==0\n",
    "\n",
    "# save\n",
    "dftrain.to_csv('../data/dftrain.csv')\n",
    "dftest.to_csv('../data/dftest.csv')"
   ]
  }
 ],
 "metadata": {
  "kernelspec": {
   "display_name": "Python 3.7.12 ('polyID')",
   "language": "python",
   "name": "python3"
  },
  "language_info": {
   "codemirror_mode": {
    "name": "ipython",
    "version": 3
   },
   "file_extension": ".py",
   "mimetype": "text/x-python",
   "name": "python",
   "nbconvert_exporter": "python",
   "pygments_lexer": "ipython3",
   "version": "3.7.12"
  },
  "orig_nbformat": 4,
  "vscode": {
   "interpreter": {
    "hash": "267d97aa68998e1388018e331430e49a3b8c6b7c8ff96a5c0d89ba2bb72ea730"
   }
  }
 },
 "nbformat": 4,
 "nbformat_minor": 2
}
